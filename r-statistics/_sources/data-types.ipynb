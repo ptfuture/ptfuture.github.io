{
 "cells": [
  {
   "cell_type": "markdown",
   "id": "cac7858a-d645-4a3f-84ed-7ef09bec1ba5",
   "metadata": {},
   "source": [
    "# Data Types\n"
   ]
  },
  {
   "cell_type": "markdown",
   "id": "e6ce85b4-b6eb-4811-9898-9723add9e478",
   "metadata": {},
   "source": [
    "## Vector and Matrix\n",
    "\n",
    "**Video lecture: https://youtu.be/e93cGumfNA0**\n",
    "\n",
    "Topics covered in this video are vector, matrix/array, solving linear equation in R, singular value decomposition in R, QR decomposition in R.\n"
   ]
  },
  {
   "cell_type": "markdown",
   "id": "c0d42011-fddc-46d5-a9c0-efdb5134e943",
   "metadata": {},
   "source": [
    "## List, Dataframe and Factor\n",
    "\n",
    "**Video lecture: https://youtu.be/AT34XxaV1zE**\n",
    "\n",
    "### List\n",
    "\n",
    "- The components used to form the list are copied when forming the new list and the originals are not affected."
   ]
  },
  {
   "cell_type": "code",
   "execution_count": 1,
   "id": "1ab4f3d6-ac33-4fed-973d-bddcd71ef95b",
   "metadata": {},
   "outputs": [],
   "source": [
    "lst <- list(name=\"Fred\", wife=\"Mary\", no.children=3, child.ages=c(4,7,9))"
   ]
  },
  {
   "cell_type": "code",
   "execution_count": 2,
   "id": "b7f7360d-a0f4-471f-ab79-5150d01b6a44",
   "metadata": {},
   "outputs": [
    {
     "data": {
      "text/html": [
       "<dl>\n",
       "\t<dt>$name</dt>\n",
       "\t\t<dd>'Fred'</dd>\n",
       "\t<dt>$wife</dt>\n",
       "\t\t<dd>'Mary'</dd>\n",
       "\t<dt>$no.children</dt>\n",
       "\t\t<dd>3</dd>\n",
       "\t<dt>$child.ages</dt>\n",
       "\t\t<dd><style>\n",
       ".list-inline {list-style: none; margin:0; padding: 0}\n",
       ".list-inline>li {display: inline-block}\n",
       ".list-inline>li:not(:last-child)::after {content: \"\\00b7\"; padding: 0 .5ex}\n",
       "</style>\n",
       "<ol class=list-inline><li>4</li><li>7</li><li>9</li></ol>\n",
       "</dd>\n",
       "</dl>\n"
      ],
      "text/latex": [
       "\\begin{description}\n",
       "\\item[\\$name] 'Fred'\n",
       "\\item[\\$wife] 'Mary'\n",
       "\\item[\\$no.children] 3\n",
       "\\item[\\$child.ages] \\begin{enumerate*}\n",
       "\\item 4\n",
       "\\item 7\n",
       "\\item 9\n",
       "\\end{enumerate*}\n",
       "\n",
       "\\end{description}\n"
      ],
      "text/markdown": [
       "$name\n",
       ":   'Fred'\n",
       "$wife\n",
       ":   'Mary'\n",
       "$no.children\n",
       ":   3\n",
       "$child.ages\n",
       ":   1. 4\n",
       "2. 7\n",
       "3. 9\n",
       "\n",
       "\n",
       "\n",
       "\n",
       "\n"
      ],
      "text/plain": [
       "$name\n",
       "[1] \"Fred\"\n",
       "\n",
       "$wife\n",
       "[1] \"Mary\"\n",
       "\n",
       "$no.children\n",
       "[1] 3\n",
       "\n",
       "$child.ages\n",
       "[1] 4 7 9\n"
      ]
     },
     "metadata": {},
     "output_type": "display_data"
    }
   ],
   "source": [
    "lst"
   ]
  },
  {
   "cell_type": "code",
   "execution_count": 3,
   "id": "fc94c267-a220-483b-8f31-1641f2221597",
   "metadata": {},
   "outputs": [
    {
     "data": {
      "text/html": [
       "'Fred'"
      ],
      "text/latex": [
       "'Fred'"
      ],
      "text/markdown": [
       "'Fred'"
      ],
      "text/plain": [
       "[1] \"Fred\""
      ]
     },
     "metadata": {},
     "output_type": "display_data"
    }
   ],
   "source": [
    "lst$name"
   ]
  },
  {
   "cell_type": "code",
   "execution_count": 4,
   "id": "1e81508c-1906-4ec4-9a64-fa554771b4f9",
   "metadata": {},
   "outputs": [
    {
     "data": {
      "text/html": [
       "4"
      ],
      "text/latex": [
       "4"
      ],
      "text/markdown": [
       "4"
      ],
      "text/plain": [
       "[1] 4"
      ]
     },
     "metadata": {},
     "output_type": "display_data"
    }
   ],
   "source": [
    "lst[[4]][1]"
   ]
  },
  {
   "cell_type": "code",
   "execution_count": 5,
   "id": "4d1a6a9f-d26d-42e9-9c23-a4def1943c4d",
   "metadata": {},
   "outputs": [
    {
     "data": {
      "text/html": [
       "3"
      ],
      "text/latex": [
       "3"
      ],
      "text/markdown": [
       "3"
      ],
      "text/plain": [
       "[1] 3"
      ]
     },
     "metadata": {},
     "output_type": "display_data"
    }
   ],
   "source": [
    "lst[[\"no.children\"]]"
   ]
  },
  {
   "cell_type": "code",
   "execution_count": 6,
   "id": "8ab65802-0ea4-4c20-a45d-5b1052317df3",
   "metadata": {},
   "outputs": [
    {
     "data": {
      "text/html": [
       "<style>\n",
       ".list-inline {list-style: none; margin:0; padding: 0}\n",
       ".list-inline>li {display: inline-block}\n",
       ".list-inline>li:not(:last-child)::after {content: \"\\00b7\"; padding: 0 .5ex}\n",
       "</style>\n",
       "<ol class=list-inline><li>4</li><li>7</li><li>9</li></ol>\n"
      ],
      "text/latex": [
       "\\begin{enumerate*}\n",
       "\\item 4\n",
       "\\item 7\n",
       "\\item 9\n",
       "\\end{enumerate*}\n"
      ],
      "text/markdown": [
       "1. 4\n",
       "2. 7\n",
       "3. 9\n",
       "\n",
       "\n"
      ],
      "text/plain": [
       "[1] 4 7 9"
      ]
     },
     "metadata": {},
     "output_type": "display_data"
    }
   ],
   "source": [
    "n = \"child.ages\"\n",
    "lst[[n]]"
   ]
  },
  {
   "cell_type": "code",
   "execution_count": 7,
   "id": "a1aab94a-f230-4103-ab92-3cac9e5d573e",
   "metadata": {},
   "outputs": [
    {
     "data": {
      "text/html": [
       "<strong>$name</strong> = 'Fred'"
      ],
      "text/latex": [
       "\\textbf{\\$name} = 'Fred'"
      ],
      "text/markdown": [
       "**$name** = 'Fred'"
      ],
      "text/plain": [
       "$name\n",
       "[1] \"Fred\"\n"
      ]
     },
     "metadata": {},
     "output_type": "display_data"
    }
   ],
   "source": [
    "lst[1]"
   ]
  },
  {
   "cell_type": "code",
   "execution_count": 8,
   "id": "8c7d6de1-7554-4735-9b41-d110fcdc16f5",
   "metadata": {},
   "outputs": [
    {
     "data": {
      "text/html": [
       "<strong>$name</strong> = 'Freddy'"
      ],
      "text/latex": [
       "\\textbf{\\$name} = 'Freddy'"
      ],
      "text/markdown": [
       "**$name** = 'Freddy'"
      ],
      "text/plain": [
       "$name\n",
       "[1] \"Freddy\"\n"
      ]
     },
     "metadata": {},
     "output_type": "display_data"
    }
   ],
   "source": [
    "lst[1] = \"Freddy\"\n",
    "lst[1]"
   ]
  },
  {
   "cell_type": "code",
   "execution_count": 9,
   "id": "bfa7852a-d791-4d9d-a1c2-f90236064480",
   "metadata": {},
   "outputs": [
    {
     "data": {
      "text/html": [
       "'Freddy'"
      ],
      "text/latex": [
       "'Freddy'"
      ],
      "text/markdown": [
       "'Freddy'"
      ],
      "text/plain": [
       "[1] \"Freddy\""
      ]
     },
     "metadata": {},
     "output_type": "display_data"
    }
   ],
   "source": [
    "lst[[1]]"
   ]
  },
  {
   "cell_type": "code",
   "execution_count": 10,
   "id": "cc9b6d90-1c2c-44c3-826d-8b732cf1d08c",
   "metadata": {},
   "outputs": [
    {
     "data": {
      "text/html": [
       "'Freddy'"
      ],
      "text/latex": [
       "'Freddy'"
      ],
      "text/markdown": [
       "'Freddy'"
      ],
      "text/plain": [
       "[1] \"Freddy\""
      ]
     },
     "metadata": {},
     "output_type": "display_data"
    }
   ],
   "source": [
    "lst[[\"name\"]]"
   ]
  },
  {
   "cell_type": "code",
   "execution_count": 11,
   "id": "22573d41-875d-4434-a2c5-4467c9075bef",
   "metadata": {},
   "outputs": [
    {
     "data": {
      "text/html": [
       "<strong>$name</strong> = 'Froggy'"
      ],
      "text/latex": [
       "\\textbf{\\$name} = 'Froggy'"
      ],
      "text/markdown": [
       "**$name** = 'Froggy'"
      ],
      "text/plain": [
       "$name\n",
       "[1] \"Froggy\"\n"
      ]
     },
     "metadata": {},
     "output_type": "display_data"
    }
   ],
   "source": [
    "lst[[1]] = \"Froggy\"\n",
    "lst[1]"
   ]
  },
  {
   "cell_type": "code",
   "execution_count": 12,
   "id": "74fe8b94-65ba-49db-b790-5f4745712263",
   "metadata": {},
   "outputs": [
    {
     "data": {
      "text/html": [
       "'Froggy'"
      ],
      "text/latex": [
       "'Froggy'"
      ],
      "text/markdown": [
       "'Froggy'"
      ],
      "text/plain": [
       "[1] \"Froggy\""
      ]
     },
     "metadata": {},
     "output_type": "display_data"
    }
   ],
   "source": [
    "lst[[1]]"
   ]
  },
  {
   "cell_type": "markdown",
   "id": "9b6b65d1-1408-4261-9ab3-22f71db985f3",
   "metadata": {},
   "source": [
    "Names of each list component is abbreviated to the minimum characters needed."
   ]
  },
  {
   "cell_type": "code",
   "execution_count": 13,
   "id": "2d313d84-72b2-49e9-a7e9-e831e82afa9c",
   "metadata": {},
   "outputs": [
    {
     "data": {
      "text/html": [
       "'Froggy'"
      ],
      "text/latex": [
       "'Froggy'"
      ],
      "text/markdown": [
       "'Froggy'"
      ],
      "text/plain": [
       "[1] \"Froggy\""
      ]
     },
     "metadata": {},
     "output_type": "display_data"
    }
   ],
   "source": [
    "lst$na"
   ]
  },
  {
   "cell_type": "code",
   "execution_count": 14,
   "id": "9ac30a65-c9c4-4fb6-95ba-a0617f01f834",
   "metadata": {},
   "outputs": [
    {
     "data": {
      "text/html": [
       "3"
      ],
      "text/latex": [
       "3"
      ],
      "text/markdown": [
       "3"
      ],
      "text/plain": [
       "[1] 3"
      ]
     },
     "metadata": {},
     "output_type": "display_data"
    }
   ],
   "source": [
    "lst$no"
   ]
  },
  {
   "cell_type": "markdown",
   "id": "588775ae-a85b-4fe2-ab40-3ca7b5b12a33",
   "metadata": {},
   "source": [
    "List without component names:"
   ]
  },
  {
   "cell_type": "code",
   "execution_count": 15,
   "id": "09e5c41a-4aa9-4882-9e8f-19392e919ca2",
   "metadata": {},
   "outputs": [],
   "source": [
    "lst2 = list(11, 22, 33, 44, c(551, 552, 553))"
   ]
  },
  {
   "cell_type": "code",
   "execution_count": 16,
   "id": "aec3bb26-2fde-4afb-bcd7-67bbf4a9e52f",
   "metadata": {},
   "outputs": [
    {
     "data": {
      "text/html": [
       "<ol>\n",
       "\t<li>11</li>\n",
       "\t<li>22</li>\n",
       "\t<li>33</li>\n",
       "\t<li>44</li>\n",
       "\t<li><style>\n",
       ".list-inline {list-style: none; margin:0; padding: 0}\n",
       ".list-inline>li {display: inline-block}\n",
       ".list-inline>li:not(:last-child)::after {content: \"\\00b7\"; padding: 0 .5ex}\n",
       "</style>\n",
       "<ol class=list-inline><li>551</li><li>552</li><li>553</li></ol>\n",
       "</li>\n",
       "</ol>\n"
      ],
      "text/latex": [
       "\\begin{enumerate}\n",
       "\\item 11\n",
       "\\item 22\n",
       "\\item 33\n",
       "\\item 44\n",
       "\\item \\begin{enumerate*}\n",
       "\\item 551\n",
       "\\item 552\n",
       "\\item 553\n",
       "\\end{enumerate*}\n",
       "\n",
       "\\end{enumerate}\n"
      ],
      "text/markdown": [
       "1. 11\n",
       "2. 22\n",
       "3. 33\n",
       "4. 44\n",
       "5. 1. 551\n",
       "2. 552\n",
       "3. 553\n",
       "\n",
       "\n",
       "\n",
       "\n",
       "\n"
      ],
      "text/plain": [
       "[[1]]\n",
       "[1] 11\n",
       "\n",
       "[[2]]\n",
       "[1] 22\n",
       "\n",
       "[[3]]\n",
       "[1] 33\n",
       "\n",
       "[[4]]\n",
       "[1] 44\n",
       "\n",
       "[[5]]\n",
       "[1] 551 552 553\n"
      ]
     },
     "metadata": {},
     "output_type": "display_data"
    }
   ],
   "source": [
    "lst2"
   ]
  },
  {
   "cell_type": "code",
   "execution_count": 17,
   "id": "4307a064-a90b-4564-bda6-95cbcc5d546d",
   "metadata": {},
   "outputs": [
    {
     "data": {
      "text/html": [
       "<ol>\n",
       "\t<li>11</li>\n",
       "</ol>\n"
      ],
      "text/latex": [
       "\\begin{enumerate}\n",
       "\\item 11\n",
       "\\end{enumerate}\n"
      ],
      "text/markdown": [
       "1. 11\n",
       "\n",
       "\n"
      ],
      "text/plain": [
       "[[1]]\n",
       "[1] 11\n"
      ]
     },
     "metadata": {},
     "output_type": "display_data"
    }
   ],
   "source": [
    "lst2[1]"
   ]
  },
  {
   "cell_type": "code",
   "execution_count": 18,
   "id": "dd76cfc9-89b3-4e07-ba38-f0a8bb96b474",
   "metadata": {
    "tags": []
   },
   "outputs": [
    {
     "data": {
      "text/html": [
       "<ol>\n",
       "\t<li>111</li>\n",
       "</ol>\n"
      ],
      "text/latex": [
       "\\begin{enumerate}\n",
       "\\item 111\n",
       "\\end{enumerate}\n"
      ],
      "text/markdown": [
       "1. 111\n",
       "\n",
       "\n"
      ],
      "text/plain": [
       "[[1]]\n",
       "[1] 111\n"
      ]
     },
     "metadata": {},
     "output_type": "display_data"
    }
   ],
   "source": [
    "lst2[1] = 111\n",
    "lst2[1]"
   ]
  },
  {
   "cell_type": "markdown",
   "id": "75d2dfcc-d159-4500-80b6-9736d7c818bf",
   "metadata": {},
   "source": [
    "### Data Frame"
   ]
  },
  {
   "cell_type": "code",
   "execution_count": 19,
   "id": "16d87cf2-ed3d-420b-bc00-165f3fdf103a",
   "metadata": {},
   "outputs": [
    {
     "data": {
      "text/html": [
       "<table class=\"dataframe\">\n",
       "<caption>A data.frame: 4 × 3</caption>\n",
       "<thead>\n",
       "\t<tr><th></th><th scope=col>Training</th><th scope=col>Pulse</th><th scope=col>Duration</th></tr>\n",
       "\t<tr><th></th><th scope=col>&lt;chr&gt;</th><th scope=col>&lt;dbl&gt;</th><th scope=col>&lt;dbl&gt;</th></tr>\n",
       "</thead>\n",
       "<tbody>\n",
       "\t<tr><th scope=row>1</th><td>Strength</td><td>100</td><td> 60</td></tr>\n",
       "\t<tr><th scope=row>2</th><td>Stamina </td><td>150</td><td> 30</td></tr>\n",
       "\t<tr><th scope=row>3</th><td>Other   </td><td>120</td><td> 45</td></tr>\n",
       "\t<tr><th scope=row>4</th><td>Force   </td><td>100</td><td>110</td></tr>\n",
       "</tbody>\n",
       "</table>\n"
      ],
      "text/latex": [
       "A data.frame: 4 × 3\n",
       "\\begin{tabular}{r|lll}\n",
       "  & Training & Pulse & Duration\\\\\n",
       "  & <chr> & <dbl> & <dbl>\\\\\n",
       "\\hline\n",
       "\t1 & Strength & 100 &  60\\\\\n",
       "\t2 & Stamina  & 150 &  30\\\\\n",
       "\t3 & Other    & 120 &  45\\\\\n",
       "\t4 & Force    & 100 & 110\\\\\n",
       "\\end{tabular}\n"
      ],
      "text/markdown": [
       "\n",
       "A data.frame: 4 × 3\n",
       "\n",
       "| <!--/--> | Training &lt;chr&gt; | Pulse &lt;dbl&gt; | Duration &lt;dbl&gt; |\n",
       "|---|---|---|---|\n",
       "| 1 | Strength | 100 |  60 |\n",
       "| 2 | Stamina  | 150 |  30 |\n",
       "| 3 | Other    | 120 |  45 |\n",
       "| 4 | Force    | 100 | 110 |\n",
       "\n"
      ],
      "text/plain": [
       "  Training Pulse Duration\n",
       "1 Strength 100    60     \n",
       "2 Stamina  150    30     \n",
       "3 Other    120    45     \n",
       "4 Force    100   110     "
      ]
     },
     "metadata": {},
     "output_type": "display_data"
    }
   ],
   "source": [
    "dframe <- data.frame (\n",
    "  Training = c(\"Strength\", \"Stamina\", \"Other\"),\n",
    "  Pulse = c(100, 150, 120),\n",
    "  Duration = c(60, 30, 45)\n",
    ")\n",
    "\n",
    "# Add a new row\n",
    "new_dframe <- rbind(dframe, list(Training=\"Force\", Duration=110, Pulse=100))\n",
    "\n",
    "# Print the new row\n",
    "new_dframe"
   ]
  },
  {
   "cell_type": "code",
   "execution_count": 20,
   "id": "bff4a588-b156-436d-b122-05e7e038b9c2",
   "metadata": {},
   "outputs": [
    {
     "data": {
      "text/html": [
       "<table class=\"dataframe\">\n",
       "<caption>A data.frame: 2 × 3</caption>\n",
       "<thead>\n",
       "\t<tr><th></th><th scope=col>Training</th><th scope=col>Pulse</th><th scope=col>Duration</th></tr>\n",
       "\t<tr><th></th><th scope=col>&lt;chr&gt;</th><th scope=col>&lt;dbl&gt;</th><th scope=col>&lt;dbl&gt;</th></tr>\n",
       "</thead>\n",
       "<tbody>\n",
       "\t<tr><th scope=row>1</th><td>Strength</td><td>100</td><td>60</td></tr>\n",
       "\t<tr><th scope=row>2</th><td>Stamina </td><td>150</td><td>30</td></tr>\n",
       "</tbody>\n",
       "</table>\n"
      ],
      "text/latex": [
       "A data.frame: 2 × 3\n",
       "\\begin{tabular}{r|lll}\n",
       "  & Training & Pulse & Duration\\\\\n",
       "  & <chr> & <dbl> & <dbl>\\\\\n",
       "\\hline\n",
       "\t1 & Strength & 100 & 60\\\\\n",
       "\t2 & Stamina  & 150 & 30\\\\\n",
       "\\end{tabular}\n"
      ],
      "text/markdown": [
       "\n",
       "A data.frame: 2 × 3\n",
       "\n",
       "| <!--/--> | Training &lt;chr&gt; | Pulse &lt;dbl&gt; | Duration &lt;dbl&gt; |\n",
       "|---|---|---|---|\n",
       "| 1 | Strength | 100 | 60 |\n",
       "| 2 | Stamina  | 150 | 30 |\n",
       "\n"
      ],
      "text/plain": [
       "  Training Pulse Duration\n",
       "1 Strength 100   60      \n",
       "2 Stamina  150   30      "
      ]
     },
     "metadata": {},
     "output_type": "display_data"
    }
   ],
   "source": [
    "new_dframe[1:2,]"
   ]
  },
  {
   "cell_type": "code",
   "execution_count": 21,
   "id": "f84fbdae-820c-4447-a435-1f6c3d6bf370",
   "metadata": {},
   "outputs": [
    {
     "data": {
      "text/html": [
       "<table class=\"dataframe\">\n",
       "<caption>A data.frame: 4 × 2</caption>\n",
       "<thead>\n",
       "\t<tr><th></th><th scope=col>Pulse</th><th scope=col>Duration</th></tr>\n",
       "\t<tr><th></th><th scope=col>&lt;dbl&gt;</th><th scope=col>&lt;dbl&gt;</th></tr>\n",
       "</thead>\n",
       "<tbody>\n",
       "\t<tr><th scope=row>1</th><td>100</td><td> 60</td></tr>\n",
       "\t<tr><th scope=row>2</th><td>150</td><td> 30</td></tr>\n",
       "\t<tr><th scope=row>3</th><td>120</td><td> 45</td></tr>\n",
       "\t<tr><th scope=row>4</th><td>100</td><td>110</td></tr>\n",
       "</tbody>\n",
       "</table>\n"
      ],
      "text/latex": [
       "A data.frame: 4 × 2\n",
       "\\begin{tabular}{r|ll}\n",
       "  & Pulse & Duration\\\\\n",
       "  & <dbl> & <dbl>\\\\\n",
       "\\hline\n",
       "\t1 & 100 &  60\\\\\n",
       "\t2 & 150 &  30\\\\\n",
       "\t3 & 120 &  45\\\\\n",
       "\t4 & 100 & 110\\\\\n",
       "\\end{tabular}\n"
      ],
      "text/markdown": [
       "\n",
       "A data.frame: 4 × 2\n",
       "\n",
       "| <!--/--> | Pulse &lt;dbl&gt; | Duration &lt;dbl&gt; |\n",
       "|---|---|---|\n",
       "| 1 | 100 |  60 |\n",
       "| 2 | 150 |  30 |\n",
       "| 3 | 120 |  45 |\n",
       "| 4 | 100 | 110 |\n",
       "\n"
      ],
      "text/plain": [
       "  Pulse Duration\n",
       "1 100    60     \n",
       "2 150    30     \n",
       "3 120    45     \n",
       "4 100   110     "
      ]
     },
     "metadata": {},
     "output_type": "display_data"
    }
   ],
   "source": [
    "new_dframe[,2:3]"
   ]
  },
  {
   "cell_type": "code",
   "execution_count": 22,
   "id": "6f2d68b1-0a5c-4c42-a040-de86d1b266b2",
   "metadata": {},
   "outputs": [
    {
     "data": {
      "text/html": [
       "<style>\n",
       ".list-inline {list-style: none; margin:0; padding: 0}\n",
       ".list-inline>li {display: inline-block}\n",
       ".list-inline>li:not(:last-child)::after {content: \"\\00b7\"; padding: 0 .5ex}\n",
       "</style>\n",
       "<ol class=list-inline><li>'Strength'</li><li>'Stamina'</li><li>'Other'</li><li>'Force'</li></ol>\n"
      ],
      "text/latex": [
       "\\begin{enumerate*}\n",
       "\\item 'Strength'\n",
       "\\item 'Stamina'\n",
       "\\item 'Other'\n",
       "\\item 'Force'\n",
       "\\end{enumerate*}\n"
      ],
      "text/markdown": [
       "1. 'Strength'\n",
       "2. 'Stamina'\n",
       "3. 'Other'\n",
       "4. 'Force'\n",
       "\n",
       "\n"
      ],
      "text/plain": [
       "[1] \"Strength\" \"Stamina\"  \"Other\"    \"Force\"   "
      ]
     },
     "metadata": {},
     "output_type": "display_data"
    }
   ],
   "source": [
    "new_dframe$Training"
   ]
  },
  {
   "cell_type": "code",
   "execution_count": 23,
   "id": "a885ed96-05b7-43ba-a2b4-b3c874bb7a6a",
   "metadata": {},
   "outputs": [
    {
     "data": {
      "text/html": [
       "<style>\n",
       ".list-inline {list-style: none; margin:0; padding: 0}\n",
       ".list-inline>li {display: inline-block}\n",
       ".list-inline>li:not(:last-child)::after {content: \"\\00b7\"; padding: 0 .5ex}\n",
       "</style>\n",
       "<ol class=list-inline><li>4</li><li>3</li></ol>\n"
      ],
      "text/latex": [
       "\\begin{enumerate*}\n",
       "\\item 4\n",
       "\\item 3\n",
       "\\end{enumerate*}\n"
      ],
      "text/markdown": [
       "1. 4\n",
       "2. 3\n",
       "\n",
       "\n"
      ],
      "text/plain": [
       "[1] 4 3"
      ]
     },
     "metadata": {},
     "output_type": "display_data"
    }
   ],
   "source": [
    "dim(new_dframe)"
   ]
  },
  {
   "cell_type": "code",
   "execution_count": 24,
   "id": "b02f759d-df2a-4e47-8996-4dc4aedb714d",
   "metadata": {},
   "outputs": [
    {
     "data": {
      "text/html": [
       "4"
      ],
      "text/latex": [
       "4"
      ],
      "text/markdown": [
       "4"
      ],
      "text/plain": [
       "[1] 4"
      ]
     },
     "metadata": {},
     "output_type": "display_data"
    }
   ],
   "source": [
    "dim(new_dframe)[1]"
   ]
  },
  {
   "cell_type": "code",
   "execution_count": 25,
   "id": "0dfec1e2-9045-4fdd-9ff7-1c13acf9bdee",
   "metadata": {},
   "outputs": [
    {
     "data": {
      "text/html": [
       "3"
      ],
      "text/latex": [
       "3"
      ],
      "text/markdown": [
       "3"
      ],
      "text/plain": [
       "[1] 3"
      ]
     },
     "metadata": {},
     "output_type": "display_data"
    }
   ],
   "source": [
    "dim(new_dframe)[2]"
   ]
  },
  {
   "cell_type": "markdown",
   "id": "1264f7d1-cdb2-4b66-823d-5ab6ed254862",
   "metadata": {},
   "source": [
    "### Factor"
   ]
  },
  {
   "cell_type": "code",
   "execution_count": 26,
   "id": "d9a26e21-b4ff-49ff-b40e-0ecb60c8d7aa",
   "metadata": {},
   "outputs": [
    {
     "data": {
      "text/html": [
       "<style>\n",
       ".list-inline {list-style: none; margin:0; padding: 0}\n",
       ".list-inline>li {display: inline-block}\n",
       ".list-inline>li:not(:last-child)::after {content: \"\\00b7\"; padding: 0 .5ex}\n",
       "</style>\n",
       "<ol class=list-inline><li>Jazz</li><li>Rock</li><li>Classic</li><li>Classic</li><li>Pop</li><li>Jazz</li><li>Rock</li><li>Jazz</li></ol>\n",
       "\n",
       "<details>\n",
       "\t<summary style=display:list-item;cursor:pointer>\n",
       "\t\t<strong>Levels</strong>:\n",
       "\t</summary>\n",
       "\t<style>\n",
       "\t.list-inline {list-style: none; margin:0; padding: 0}\n",
       "\t.list-inline>li {display: inline-block}\n",
       "\t.list-inline>li:not(:last-child)::after {content: \"\\00b7\"; padding: 0 .5ex}\n",
       "\t</style>\n",
       "\t<ol class=list-inline><li>'Classic'</li><li>'Jazz'</li><li>'Pop'</li><li>'Rock'</li></ol>\n",
       "</details>"
      ],
      "text/latex": [
       "\\begin{enumerate*}\n",
       "\\item Jazz\n",
       "\\item Rock\n",
       "\\item Classic\n",
       "\\item Classic\n",
       "\\item Pop\n",
       "\\item Jazz\n",
       "\\item Rock\n",
       "\\item Jazz\n",
       "\\end{enumerate*}\n",
       "\n",
       "\\emph{Levels}: \\begin{enumerate*}\n",
       "\\item 'Classic'\n",
       "\\item 'Jazz'\n",
       "\\item 'Pop'\n",
       "\\item 'Rock'\n",
       "\\end{enumerate*}\n"
      ],
      "text/markdown": [
       "1. Jazz\n",
       "2. Rock\n",
       "3. Classic\n",
       "4. Classic\n",
       "5. Pop\n",
       "6. Jazz\n",
       "7. Rock\n",
       "8. Jazz\n",
       "\n",
       "\n",
       "\n",
       "**Levels**: 1. 'Classic'\n",
       "2. 'Jazz'\n",
       "3. 'Pop'\n",
       "4. 'Rock'\n",
       "\n",
       "\n"
      ],
      "text/plain": [
       "[1] Jazz    Rock    Classic Classic Pop     Jazz    Rock    Jazz   \n",
       "Levels: Classic Jazz Pop Rock"
      ]
     },
     "metadata": {},
     "output_type": "display_data"
    }
   ],
   "source": [
    "music = c(\"Jazz\", \"Rock\", \"Classic\", \"Classic\", \"Pop\", \"Jazz\", \"Rock\", \"Jazz\")\n",
    "music_factors = factor(music)\n",
    "music_factors"
   ]
  },
  {
   "cell_type": "code",
   "execution_count": 27,
   "id": "2bf61b3c-af8d-49ba-b52e-63b9a7e0e93b",
   "metadata": {},
   "outputs": [
    {
     "data": {
      "text/html": [
       "<style>\n",
       ".list-inline {list-style: none; margin:0; padding: 0}\n",
       ".list-inline>li {display: inline-block}\n",
       ".list-inline>li:not(:last-child)::after {content: \"\\00b7\"; padding: 0 .5ex}\n",
       "</style>\n",
       "<ol class=list-inline><li>'Classic'</li><li>'Jazz'</li><li>'Pop'</li><li>'Rock'</li></ol>\n"
      ],
      "text/latex": [
       "\\begin{enumerate*}\n",
       "\\item 'Classic'\n",
       "\\item 'Jazz'\n",
       "\\item 'Pop'\n",
       "\\item 'Rock'\n",
       "\\end{enumerate*}\n"
      ],
      "text/markdown": [
       "1. 'Classic'\n",
       "2. 'Jazz'\n",
       "3. 'Pop'\n",
       "4. 'Rock'\n",
       "\n",
       "\n"
      ],
      "text/plain": [
       "[1] \"Classic\" \"Jazz\"    \"Pop\"     \"Rock\"   "
      ]
     },
     "metadata": {},
     "output_type": "display_data"
    }
   ],
   "source": [
    "lvls = levels(music_factors)\n",
    "lvls"
   ]
  },
  {
   "cell_type": "code",
   "execution_count": 28,
   "id": "9f9c32c8-5050-4492-9368-9fca2f3a18ff",
   "metadata": {},
   "outputs": [
    {
     "data": {
      "text/html": [
       "4"
      ],
      "text/latex": [
       "4"
      ],
      "text/markdown": [
       "4"
      ],
      "text/plain": [
       "[1] 4"
      ]
     },
     "metadata": {},
     "output_type": "display_data"
    }
   ],
   "source": [
    "nlevels(music_factors)"
   ]
  }
 ],
 "metadata": {
  "kernelspec": {
   "display_name": "R",
   "language": "R",
   "name": "ir"
  },
  "language_info": {
   "codemirror_mode": "r",
   "file_extension": ".r",
   "mimetype": "text/x-r-source",
   "name": "R",
   "pygments_lexer": "r",
   "version": "4.0.3"
  }
 },
 "nbformat": 4,
 "nbformat_minor": 5
}
