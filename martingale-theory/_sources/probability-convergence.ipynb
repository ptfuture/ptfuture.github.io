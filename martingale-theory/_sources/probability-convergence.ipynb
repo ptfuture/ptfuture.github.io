{
 "cells": [
  {
   "cell_type": "markdown",
   "id": "4b238ac1-6f5a-4ecf-8ebb-6e996ab5530a",
   "metadata": {},
   "source": [
    "# Probability Convergence"
   ]
  },
  {
   "cell_type": "code",
   "execution_count": 4,
   "id": "0776eb5c-ddc6-477f-9087-d4ebd163344f",
   "metadata": {
    "tags": []
   },
   "outputs": [],
   "source": [
    "library(tidyverse)\n",
    "library(dplyr)"
   ]
  },
  {
   "cell_type": "markdown",
   "id": "156dd0e4-d961-4047-9f79-f029d8be36c1",
   "metadata": {},
   "source": [
    "## Converge Almost surely"
   ]
  },
  {
   "cell_type": "markdown",
   "id": "57d71dba-4d9c-4a72-9fc8-f33ebaba8dc0",
   "metadata": {},
   "source": [
    "### Theorem: Integrability implies finite almost surely\n",
    "\n",
    "Let $(\\Omega,\\mathcal{F},\\mu)$ be a measure space. If $f$ integrable w.r.t $\\mu$, then $f$ is finite almost surely.\n",
    "\n",
    "_Proof:_\n",
    "\n",
    "$f$ is integrable implies: $\\int_{\\Omega}|f(x)| \\mu(dx) \\lt C$ for some constant $C$.\n",
    "\n",
    "Definie $E_n=\\{x: |f(x)| > n\\}$. Then $E = \\cap_n{E_n}$ is the set where $f$ goes to infinity. We want to prove $\\mu(E) = 0$. Note that $n\\mathbf{1}_{E_n} \\le |f|\\mathbf{1}_{E_n}$, we have:\n",
    "\n",
    "$$\n",
    "n\\mu(E_n) \\le \\int_{E_n}{|f(x)|}\\mu(dx) \\le \\int_{\\Omega}{|f(x)|}\\mu(dx) \\lt C\n",
    "$$\n",
    "\n",
    "Since $E \\subset E_n$ for all $n$, $0 \\le \\mu(E) \\le \\mu(E_n) \\le \\frac{C}{n}$ for all $n$. Let $n \\to \\infty$, we have $\\mu(E) = 0$. i.e. $f$ is finite almost surely.\n",
    "\n",
    "$\\blacksquare$"
   ]
  },
  {
   "cell_type": "markdown",
   "id": "1233e65b-5ed8-43db-896f-eec4b66f4693",
   "metadata": {},
   "source": [
    "### Sufficient and necessary conditions\n",
    "\n",
    "#### Theorem \n",
    "\n",
    "If $\\sum_{n=1}^{\\infty} E[|X_n|^s] \\lt \\infty$ and $s \\gt 0$, then $X_n \\to 0$ a.s.\n",
    "\n",
    "_Proof:_\n",
    "\n",
    "This is an integration over positive function, by Fubini theorem, we can move expected value out of sumation: $E[\\sum_{n=1}^{\\infty} |X_n|^s] \\lt \\infty$. This implies $\\sum_{n=1}^{\\infty} |X_n|^s \\lt \\infty$ a.s. Further implies $|X_n|^s \\to 0$ a.s., since $s \\gt 0$, this implies $X_n \\to 0$ a.s. $\\blacksquare$"
   ]
  },
  {
   "cell_type": "markdown",
   "id": "3311044d-99fa-4b9c-ad9c-114c39488b3a",
   "metadata": {},
   "source": [
    "#### Theorem\n",
    "\n",
    "If $\\sum_{n=1}^{\\infty}P(|X_n| \\gt \\epsilon) \\lt \\infty$ for all $\\epsilon \\gt 0$, then $X_n \\to 0$ a.s. \n",
    "\n",
    "_Proof:_\n",
    "\n",
    "Method 1: \n",
    "\n",
    "Fix $\\epsilon = 1/k$ for any positive $k$, by the Borel-Cantelli lemma $\\sum_{n=1}^{\\infty}P(|X_n| \\gt 1/k) \\lt \\infty$ implies $[|X_n| \\gt 1/k \\text{ i.o}]$ has probability 0. Equivalently, $[|X_n| \\le 1/k \\text{ e.a}]$ with probability one or, another equivalent interpretation is that $|X_n| \\gt 1/k$ occurs finite number of times with probability one. Thus, $P(\\limsup_{n\\to\\infty} |X_n| \\gt 1/k) = 0$ for all positive $k$.\n",
    "\n",
    "The set $\\{ \\limsup_{n\\to\\infty}|X_n| \\gt 1/k \\}$ enlarges as $k$ increases and converges to $\\{ \\limsup_{n\\to\\infty}|X_n| \\gt 0 \\}$. By the continuity from below property of probability measure, we have $0 = P(\\{ \\limsup_{n\\to\\infty}|X_n| \\gt 1/k \\}) \\to P(\\{ \\limsup_{n\\to\\infty}|X_n| \\gt 0 \\})$ as $k\\to\\infty$. Therefore, $P(\\{ \\limsup_{n\\to\\infty}|X_n| \\gt 0 \\}) = 0$. And this impies $X_n \\to 0$ a.s. $\\blacksquare$\n",
    "\n",
    "Method 2:\n",
    "\n",
    "Let $\\epsilon = 1/k$ for some positive $k$:\n",
    "\n",
    "$\\sum_{n=1}^{\\infty}P(|X_n| \\gt 1/k) = \\sum_{n=1}^{\\infty}E(\\mathbf{1}_{(|X_n| \\gt 1/k)}) \\lt \\infty$.\n",
    "\n",
    "Since $\\mathbf{1}_{(|X_n| \\gt 1/k)}$ is positive, by the Fubini theorem, we could move the expection outside:\n",
    "\n",
    "$$\n",
    "E\\Big(\\sum_{n=1}^{\\infty}\\mathbf{1}_{(|X_n| \\gt 1/k)}\\Big) \\lt \\infty\n",
    "$$\n",
    "\n",
    "Which indicates $\\sum_{n=1}^{\\infty}\\mathbf{1}_{(|X_n| \\gt 1/k)} \\lt \\infty$ a.s., which implies $\\mathbf{1}_{(|X_n| \\gt 1/k)} \\to 0$ a.s. as $n\\to\\infty$, or equivalently, $\\{|X_n| \\gt 1/k\\}$ occurs finite number of times with probability one. And the rest of the prove will be the same as method 1. $\\blacksquare$\n"
   ]
  },
  {
   "cell_type": "markdown",
   "id": "2d948b3f-6968-435e-b768-84a76000bbc1",
   "metadata": {},
   "source": [
    "#### Theorem\n",
    "\n",
    "- $X_n \\to 0$ a.s. iff for every $\\epsilon \\gt 0$ we have $P(\\sup_{m\\ge n}|X_m| \\gt \\epsilon) \\to 0$ as $n\\to\\infty$\n",
    "- $X_n \\to 0$ a.s. iff for every $\\epsilon \\gt 0$ we have $P(\\limsup_{n\\to\\infty}|X_n| \\gt \\epsilon) = 0$\n",
    "- $X_n \\to 0$ a.s. iff for every $\\epsilon \\gt 0$ we have $P(|X_n| \\gt \\epsilon \\text{ i.o}) = 0$\n",
    "\n",
    "_Proof:_\n",
    "\n",
    "If an element $\\omega$ such that $X_n\\not\\to 0$, it's equivalent to there exist a $\\epsilon \\gt 0$ such that $\\limsup_{n\\to\\infty}|X_n|\\gt \\epsilon$. To translate it to set language we have:\n",
    "\n",
    "$$\n",
    "\\{\\omega: X_n \\not\\to 0\\} \\equiv \\cup_{\\epsilon \\in \\mathcal{Q^+}} \\{\\omega: \\limsup_{n\\to\\infty} |X_n| \\gt \\epsilon\\} \\equiv \\cup_{\\epsilon \\in \\mathcal{Q^+}} \\cap_{n} \\{\\omega: \\sup_{m \\ge n} |X_m| \\gt \\epsilon \\}\n",
    "$$\n",
    "\n",
    "$A_{\\epsilon,n} = \\{\\omega: \\sup_{m \\ge n} |X_m| \\gt \\epsilon \\}$ decreases as $n\\to \\infty$ and $A_{\\epsilon,n} \\downarrow \\cap_{n} A_{\\epsilon,n}$. By the probability measure's the continuity from above property, we have $P(A_{\\epsilon,n})\\downarrow P(\\cap_{n} A_{\\epsilon,n})$.\n",
    "\n",
    "$\\Rightarrow:$ Given $P(X_n\\not\\to 0) = 0$, since $\\{\\omega: X_n \\not\\to 0\\} \\supset \\cap_{n} A_{\\epsilon,n}$ for any $\\epsilon \\in \\mathcal{Q^+}$, we get $P(\\cap_{n} A_{\\epsilon,n}) = 0$ and $P(A_{\\epsilon,n})\\to P(\\cap_{n} A_{\\epsilon,n}) = 0$ for all $\\epsilon \\gt 0$.\n",
    "\n",
    "$\\Leftarrow:$ Given for every $\\epsilon \\gt 0$, $P(A_{\\epsilon,n}) \\to 0 = P(\\cap_{n} A_{\\epsilon,n})$ as $n\\to\\infty$. We have: $P(X_n\\not\\to 0) \\le \\sum_{\\epsilon\\in\\mathcal{Q^+}}P(\\cap_{n} A_{\\epsilon,n}) \\to 0$ as $n\\to\\infty$.\n",
    "\n",
    "$\\blacksquare$"
   ]
  },
  {
   "cell_type": "markdown",
   "id": "e4c853aa-3dac-494b-981a-cd4d2521597a",
   "metadata": {},
   "source": [
    "## Convergence in Probability\n",
    "\n",
    "We say $X_n$ converges to $X$ __in probability__ if for all $\\epsilon \\gt 0$, $P(|X_n-X| \\gt \\epsilon) \\rightarrow 0$ as $n\\rightarrow \\infty$. Noted as $X_n\\overset{P}{\\rightarrow}X$."
   ]
  },
  {
   "cell_type": "markdown",
   "id": "56b789fc-aa86-4743-a135-994fc16263dd",
   "metadata": {},
   "source": [
    "### Property\n",
    "\n",
    "If $p \\gt 0$ and $E[|X_n|^p] \\rightarrow 0$, then $X_n\\rightarrow 0$ in probability.\n",
    "\n",
    "_Proof:_\n",
    "\n",
    "By Chebyshev inequality, $P(|X_n| \\ge \\epsilon) \\le \\frac{E[|X_n|^p]}{\\epsilon^{p}} \\rightarrow 0$.\n",
    "\n",
    "$\\blacksquare$"
   ]
  },
  {
   "cell_type": "markdown",
   "id": "9ed2fbd3-289e-449e-a59c-d3a1185ba08f",
   "metadata": {},
   "source": [
    "### Property\n",
    "If $X_n\\rightarrow X$ in probability, $Y_n\\rightarrow Y$ in probability, then $X_n + Y_n \\rightarrow X + Y$ in probability."
   ]
  },
  {
   "cell_type": "markdown",
   "id": "a0b6fe50-29d9-48e0-b83e-4262d6f3c3ac",
   "metadata": {},
   "source": [
    "### Theorem\n",
    "\n",
    "$X_n \\rightarrow X$ in probability iff for every subsequence $X_{n(m)}$ there's a further subsequence $X_{n(m_k)} \\rightarrow X$ a.s."
   ]
  },
  {
   "cell_type": "markdown",
   "id": "73442ecb-a95e-4df5-89f6-f6dd74f10e17",
   "metadata": {},
   "source": [
    "_Proof:_\n",
    "\n",
    "Any given subsequence $X_{n(m)} \\rightarrow X$ in probability, for each $k$, there exist a $X_{n(m_k)}$ s.t. $P(|X_{n(m_k)} - X| \\gt 1/k) \\le 2^{-k}$. We have $\\sum_{k=1}^{\\infty}{P(|X_{n(m_k)} - X| \\gt 1/k)} \\lt \\infty$. By the Borel Cantelli lemma, $P([|X_{n(m_k)} - X| \\gt 1/k \\text{ i.o.}]) = 0$, therefore $X_{n(m_k)\\rightarrow X}$ a.s.\n",
    "\n",
    "Conversely, since every subsequence $\\{P(|X_{n(m)}-X| \\gt \\epsilon); m=1,2....\\}$ there's a further subsequence $\\{P(|X_{n(m_k)}-X| \\gt \\epsilon); k=1,2....\\} \\rightarrow 0$, by the completeness of the $\\mathbf{R}$, we have $P(|X_n-X| \\gt \\epsilon) \\rightarrow 0$.\n",
    "\n",
    "$\\blacksquare$"
   ]
  },
  {
   "cell_type": "markdown",
   "id": "f3b268e4-a53d-48c2-ba44-961cb5b3a702",
   "metadata": {},
   "source": [
    "### Corollary\n",
    "\n",
    "If $f$ is continuous and $X_n\\rightarrow X$ in probability then $f(X_n)\\rightarrow f(X)$ in probability. \n",
    "If $f$ is bounded, $E[f(X_n)] \\rightarrow E[f(X)]$."
   ]
  },
  {
   "cell_type": "markdown",
   "id": "d63aa52c-a9b1-4f8d-9546-329f37c4a99d",
   "metadata": {},
   "source": [
    "_Proof:_\n",
    "Use theorem above, $X_n\\rightarrow X$ in probability then any subsequence $X_{n(m)}$ has a further subsequence $X_{n(m_k)}\\rightarrow X$ a.s. $f$ is continuous $f(X_{n(m_k)})\\rightarrow f(X)$ a.s., so every subsequence $f(X_{n(m)})$ there's futher subsequence that converges a.s, by the theorem above again, $f(X_n) \\rightarrow f(X)$ in probability. \n",
    "\n",
    "Since every subsequence $X_{n(m_k)}\\rightarrow X$ a.s, and $f$ is bounded, by the bounded convergence theorem, $Ef(X_{n(m_k)}) \\rightarrow Ef(X)$. $\\mathbf{R}$ is a complete metric space, therefore $Ef(X_n)\\rightarrow Ef(X)$.\n",
    "\n",
    "$\\blacksquare$"
   ]
  },
  {
   "cell_type": "markdown",
   "id": "fa6560b2-343f-4cb3-bfdb-007d56fa75c4",
   "metadata": {},
   "source": [
    "### Thereom\n",
    "\n",
    "If $X_n \\rightarrow X$ in probability, $Y_n \\rightarrow Y$ in probability, then $X_n+Y_n \\rightarrow X+Y$ in probability.\n",
    "\n",
    "_Proof:_\n",
    "\n",
    "$|X_n-X| + |Y_n-Y| \\ge |(X_n+Y_n)-(X+Y)| \\ge 2\\epsilon$ indicates $\\{\\omega: |X_n(\\omega)-X(\\omega)| + |Y_n(\\omega)-Y(\\omega)| \\ge 2\\epsilon \\} \\subset \\{ \\omega: |(X_n(\\omega)+Y_n(\\omega))-(X(\\omega)+Y(\\omega))| \\ge 2\\epsilon \\}$ indicates:\n",
    "\n",
    "$$\n",
    "P(|(X_n+Y_n)-(X+Y)| \\ge 2\\epsilon) \\le P(|X_n-X| + |Y_n-Y| \\ge 2\\epsilon)\n",
    "$$\n",
    "\n",
    "$\\{\\omega: |X_n-X| + |Y_n-Y| \\ge 2\\epsilon\\} \\subset \\{\\omega: |X_n-X| \\ge \\epsilon\\} \\cup \\{\\omega: |Y_n-Y| \\ge \\epsilon\\}$ indicates:\n",
    "\n",
    "$$\n",
    "P(|X_n-X| + |Y_n-Y| \\ge 2\\epsilon) \\le P(|X_n-X| \\ge \\epsilon) + P(|Y_n-Y| \\ge \\epsilon) \\rightarrow 0\n",
    "$$\n",
    "\n",
    "$\\blacksquare$"
   ]
  },
  {
   "cell_type": "markdown",
   "id": "68d92484-8e2b-4311-8e69-0f3a1ff13970",
   "metadata": {},
   "source": [
    "### Thereom\n",
    "\n",
    "If $X_n \\overset{P}{\\to} X$, $Y_n \\overset{P}{\\to} Y$, then $X_nY_n \\overset{P}{\\to} XY$.\n",
    "\n",
    "_Proof:_\n",
    "\n",
    "$$\n",
    "X_nY_n=\\frac{1}{2}(X_n+Y_n)^2 \\frac{1}{2} - X_n^2 - \\frac{1}{2}Y_n^2 \\overset{P}{\\to} \\frac{1}{2}(X+Y)^2 - \\frac{1}{2}X^2 - \\frac{1}{2}Y^2 = XY\n",
    "$$\n",
    "\n",
    "$\\blacksquare$"
   ]
  },
  {
   "cell_type": "markdown",
   "id": "f5721412-1e7a-425f-a127-3b0be5cb1763",
   "metadata": {},
   "source": [
    "## Weak Convergence\n",
    "\n",
    "If $F_n(x) \\rightarrow F_\\infty(x)$ for all continuous points $x$ of $F_\\infty$, then we say $X_n$ __converge weakly__ or __converge in distribution__ to a limit $X_\\infty$. Noted as $F_n \\Rightarrow F_\\infty$."
   ]
  },
  {
   "cell_type": "markdown",
   "id": "05175a64-9082-43eb-bb88-aa36e4232038",
   "metadata": {},
   "source": [
    "### Theorem\n",
    "\n",
    "If $X_n \\Rightarrow b$ where $b$ is a constant, then $X_n \\overset{P}{\\to} b$."
   ]
  },
  {
   "cell_type": "markdown",
   "id": "9024bab1-3cf4-41e4-86aa-06360ce2f50e",
   "metadata": {},
   "source": [
    "_Proof:_\n",
    "\n",
    "$$\n",
    "\\begin{align}\n",
    "\\lim_{n\\to\\infty}P(|X_n-b| \\le \\epsilon) &= \\lim_{n\\to\\infty}P(X_n \\le b + \\epsilon) - \\lim_{n\\to\\infty}P(X_n \\le b - \\epsilon) \\\\\n",
    "&= 1- 0 = 1\n",
    "\\end{align}\n",
    "$$\n",
    "\n",
    "$\\blacksquare$\n"
   ]
  },
  {
   "cell_type": "markdown",
   "id": "94c58449-b014-4863-9196-7a44d24bf03f",
   "metadata": {},
   "source": [
    "Note If $X_n \\Rightarrow X$, it doesn't always indicate $X_n \\overset{P}{\\rightarrow}X$. If we let $X$ has a density function that is symmetric at $0$ and let $X_n = X$ when $n$ is even and $X_n=-X$ if $n$ is odd. then $X_n$ has the same distribution as $X$, however, $P(|X_n-X| \\gt \\epsilon) \\not\\to 0$.\n",
    "\n",
    "However convergence in probability does indicate weak convergence."
   ]
  },
  {
   "cell_type": "markdown",
   "id": "32860e09-f123-4ada-97eb-107ee40b89e0",
   "metadata": {},
   "source": [
    "### Theorem\n",
    "\n",
    "If $X_n \\overset{P}{\\rightarrow} X$ then $X_n \\Rightarrow X$."
   ]
  },
  {
   "cell_type": "markdown",
   "id": "6317a0f8-c4b5-4a40-9117-38dcb776abb1",
   "metadata": {},
   "source": [
    "_Proof:_\n",
    "\n",
    "$$\n",
    "\\begin{align}\n",
    "P(X_n \\le x) &= P(X_n \\le x \\cap |X_n-X| \\le \\epsilon) + P(X_n \\le x \\cap |X_n-X| \\gt \\epsilon) \\\\\n",
    "&\\le P(X \\le x + \\epsilon) + P(|X_n-X| \\gt \\epsilon)\n",
    "\\end{align}\n",
    "$$\n",
    "\n",
    "$$\n",
    "\\limsup_{n\\to\\infty} P(X_n \\le x) \\le P(X \\le x + \\epsilon)\n",
    "$$"
   ]
  },
  {
   "cell_type": "markdown",
   "id": "6285e517-b559-4fe8-9408-22ac9bbef653",
   "metadata": {},
   "source": [
    "$$\n",
    "\\begin{align}\n",
    "P(X_n \\gt x) &= P(X_n \\gt x \\cap |X_n-X| \\lt \\epsilon) + P(X_n \\gt x \\cap |X_n-X| \\ge \\epsilon) \\\\\n",
    "&\\lt P(X \\gt x - \\epsilon) + P(|X_n-X| \\ge \\epsilon) \\\\\n",
    "P(X_n \\le x) &= 1 - P(X_n \\gt x) \\\\\n",
    "&\\ge 1- P(X \\gt x - \\epsilon) - P(|X_n-X| \\ge \\epsilon)\n",
    "\\end{align}\n",
    "$$"
   ]
  },
  {
   "cell_type": "markdown",
   "id": "8dd8fe25-908a-4230-a82c-bc220a0d68e2",
   "metadata": {},
   "source": [
    "$$\n",
    "\\begin{align}\n",
    "\\liminf_{n\\to\\infty} P(X_n \\le x) \\ge P(X \\le x - \\epsilon)\n",
    "\\end{align}\n",
    "$$"
   ]
  },
  {
   "cell_type": "markdown",
   "id": "ee8eb2f1-11d0-407c-8fd7-ad86d575337d",
   "metadata": {},
   "source": [
    "$$\n",
    "P(X \\le x - \\epsilon) \\le \\liminf_{n\\to\\infty} P(X_n \\le x) \\le \\limsup_{n\\to\\infty} P(X_n \\le x) \\le P(X \\le x + \\epsilon)\n",
    "$$"
   ]
  },
  {
   "cell_type": "markdown",
   "id": "3fad8da7-d8f1-4d64-beee-0ea408d5ed5c",
   "metadata": {},
   "source": [
    "Let $\\epsilon \\to 0$, We get $\\lim_{n\\to\\infty}P(X_n\\le x) = P(X \\le x)$. $X_n \\Rightarrow X$.\n",
    "\n",
    "$\\blacksquare$."
   ]
  },
  {
   "cell_type": "markdown",
   "id": "24111b1d-a57e-4aab-80e7-852b26a0b060",
   "metadata": {},
   "source": [
    "### Theorem\n",
    "\n",
    "If $F_n \\Rightarrow F$ then there exist r.v $Y_n$ with cdf $F_n$ such that $Y_n \\rightarrow Y$ a.s.\n",
    "\n",
    "_Proof idea:_ Define $F_n^{-1}(x) = \\sup\\{y: F_n(y) \\lt x\\}$. Let $Y_n = F_n^{-1}(x)$. Similarly for $Y = F^{-1}(x)$. Show $Y_n(x)\\rightarrow Y(x)$ for all but countable number of $x$."
   ]
  },
  {
   "cell_type": "markdown",
   "id": "98650ac4-f06e-4486-be74-c437446b7b56",
   "metadata": {},
   "source": [
    "### Portmanteau Lemmas\n",
    "\n",
    "- $X_n \\Rightarrow X_\\infty$ iff for every bounded continuous function $g$, we have $Eg(X_n)\\rightarrow Eg(X_\\infty)$.\n",
    "- $X_n \\Rightarrow X_\\infty$ iff for every bounded Lipschitz continuous function $g$, we have $Eg(X_n)\\rightarrow Eg(X_\\infty)$. A function $f$ is a Lipschitz function if $\\exists{K}$ such that for all $x,y$, $|f(x)-f(y)| \\le K|x-y|$."
   ]
  },
  {
   "cell_type": "markdown",
   "id": "b45d0d95-24ce-4af6-bdaa-26d145b4c437",
   "metadata": {},
   "source": [
    "_Proof:_\n",
    "\n",
    "By the theorem above, there exist $Y_n \\rightarrow Y_\\infty$ a.s. holding the same distributions as $X_n, X_\\infty$. Since $g$ is continuous $g(X_n) \\rightarrow g(X_\\infty)$ a.s.. Since $g$ is bounded, by the bounded convergence theorem, $Eg(Y_n) \\rightarrow Eg(X_\\infty)$. Since $X_n, Y_n$ has the same distribution, therefore $Eg(X_n)=Eg(Y_n)$, $Eg(X_\\infty)=Eg(Y_\\infty)$."
   ]
  },
  {
   "cell_type": "markdown",
   "id": "4380ae8b-17d6-4ca2-a20e-b88b55f27a59",
   "metadata": {},
   "source": [
    "For the converse, let:\n",
    "\n",
    "$$\n",
    "g_{x,\\epsilon}(y) = \\begin{cases}\n",
    "1 &\\quad y \\le x \\\\\n",
    "0 &\\quad y \\ge x + \\epsilon \\\\\n",
    "-\\epsilon^{-1}(y-x)+1 &\\quad x \\le y \\le x + \\epsilon\n",
    "\\end{cases}\n",
    "$$"
   ]
  },
  {
   "cell_type": "markdown",
   "id": "07ff7712-edc2-4125-9eeb-dff754e062f6",
   "metadata": {},
   "source": [
    "$g_{x,\\epsilon}$ is continuous and bounded. $g_{x,\\epsilon}$ is also Lipschitz. $|g_{x,\\epsilon}(y)-g_{x,\\epsilon}(z)|\\le \\epsilon^{-1}|y-z|$."
   ]
  },
  {
   "cell_type": "code",
   "execution_count": 40,
   "id": "340f6396-212e-4aae-8671-8ee02ef2a597",
   "metadata": {
    "tags": []
   },
   "outputs": [
    {
     "data": {
      "image/png": "[encoded data removed]",
      "text/plain": [
       "plot without title"
      ]
     },
     "metadata": {
      "image/png": {
       "height": 420,
       "width": 420
      }
     },
     "output_type": "display_data"
    }
   ],
   "source": [
    "create_g<-function(x, ep) {\n",
    "  g_x_ep<-function(y) {\n",
    "    case_when(\n",
    "      y <= x ~ 1,\n",
    "      y >= x + ep ~ 0,\n",
    "      x <= y & y <= (x+ep) ~ -1*(ep^-1)*(y-x)+1\n",
    "    )\n",
    "  }\n",
    "}\n",
    "gxep <- create_g(5,5)\n",
    "\n",
    "curve(gxep, from=-10, to=20, n=500, xname=\"y\")"
   ]
  },
  {
   "cell_type": "markdown",
   "id": "e3e92ab6-5566-48d2-9992-72456a2ed1a0",
   "metadata": {},
   "source": [
    "$$\n",
    "Eg_{x,\\epsilon}(X_n) = \\int\\limits_{\\{X_n(\\omega)\\le x\\}}{1}dP + \\int\\limits_{\\{x \\le X_n(\\omega) \\le x + \\epsilon\\}}{(-\\epsilon^{-1}(X_n(\\omega)-x)+1)}dP = P(X_n(\\omega)\\le x) + \\int\\limits_{\\{x \\le X_n(\\omega) \\le x + \\epsilon\\}}{(-\\epsilon^{-1}(X_m(\\omega)-x)+1)}dP\n",
    "$$"
   ]
  },
  {
   "cell_type": "markdown",
   "id": "fd4b2663-714b-4efc-a785-3fb5c26be0de",
   "metadata": {},
   "source": [
    "$$\n",
    "\\limsup\\limits_{n\\rightarrow\\infty}P(X_n \\le x) \\le \\limsup\\limits_{n\\rightarrow\\infty}Eg_{x,\\epsilon}(X_n)=Eg_{x,\\epsilon}(X_\\infty) \\le P(X_\\infty \\le x+\\epsilon)\n",
    "$$\n",
    "\n",
    "Let $\\epsilon \\rightarrow 0$, $\\limsup\\limits_{n\\rightarrow\\infty}P(X_n \\le x) \\le P(X_\\infty \\le x)$."
   ]
  },
  {
   "cell_type": "markdown",
   "id": "50588b3f-16bf-484c-a750-ff2636e34c22",
   "metadata": {},
   "source": [
    "$$\n",
    "\\liminf\\limits_{n\\rightarrow \\infty} P(X_n \\le x) \\ge \\liminf\\limits_{n\\rightarrow\\infty} Eg_{x-\\epsilon,\\epsilon}(X_n) = Eg_{x-\\epsilon,\\epsilon}(X_\\infty) \\ge P(X_\\infty \\le x-\\epsilon)\n",
    "$$\n",
    "\n",
    "Let $\\epsilon \\rightarrow 0$, $\\liminf\\limits_{n\\rightarrow \\infty} P(X_n \\le x) \\ge P(X_\\infty \\le x)$.\n",
    "\n",
    "$\\blacksquare$"
   ]
  },
  {
   "cell_type": "markdown",
   "id": "2db0d9e9-1e17-4848-9050-59e6070c9b64",
   "metadata": {},
   "source": [
    "### Theorem\n",
    "\n",
    "Suppose $X_n \\Rightarrow X$, $Y_n -X_n \\overset{P}{\\to} 0$, then $X_n+(Y_n-X_n)= Y_n \\Rightarrow X$.\n"
   ]
  },
  {
   "cell_type": "markdown",
   "id": "b8b34e3e-d315-4456-b78d-1ba4149e4b65",
   "metadata": {},
   "source": [
    "_Proof:_\n",
    "\n",
    "Use Portmanteau lemmas. To prove $Y_n \\Rightarrow X$, we want to prvoe that for any bounded Lipschitz continuous function $f$, $Ef(Y_n) \\to Ef(X)$.\n"
   ]
  },
  {
   "cell_type": "markdown",
   "id": "f88bebb7-1045-464d-9f05-2c639d27eadc",
   "metadata": {},
   "source": [
    "$$\n",
    "|Ef(Y_n)-Ef(X)| \\le |Ef(Y_n) - Ef(X_n)| + |Ef(X_n) - Ef(X)|\n",
    "$$"
   ]
  },
  {
   "cell_type": "markdown",
   "id": "1088cc30-f8da-453b-a9e2-6d5fc1c7cd99",
   "metadata": {},
   "source": [
    "The second term goes to zero by the Portmanteau lemmas. We we left to prove is that the first also goes to zero. Let $f$ be bounded i.e. $|f(x)| \\lt M$ and Lipschitz continuous i.e. $\\exists{K}$ such that for all $x,y$, $|f(x)-f(y)| \\lt K|x-y|$."
   ]
  },
  {
   "cell_type": "markdown",
   "id": "bf9a0aff-0cf8-4ecc-a236-7031035607a7",
   "metadata": {},
   "source": [
    "$$\n",
    "\\begin{align}\n",
    "|Ef(Y_n)-Ef(X_n)| &\\le E[|f(Y_n)-f(X_n)|] \\\\\n",
    "&\\le E[|f(Y_n)-f(X_n)|\\mathbf{1}_{|Y_n-X_n| \\le \\epsilon}] + E[|f(Y_n)-f(X_n)|\\mathbf{1}_{|Y_n-X_n| \\gt \\epsilon}] \\\\\n",
    "&\\le K\\epsilon P(|Y_n-X_n| \\le \\epsilon) + 2M P(|Y_n-X_n| \\gt \\epsilon)\n",
    "\\end{align}\n",
    "$$"
   ]
  },
  {
   "cell_type": "markdown",
   "id": "99179b39-93b0-4527-ae27-81288635667c",
   "metadata": {},
   "source": [
    "Let $n \\to \\infty$, $|Ef(Y_n) - Ef(X_n)| \\le K\\epsilon$, because $Y_n-X_n \\overset{P}{\\to} 0$. Since $\\epsilon$ is arbitrary, we get $\\lim_{n\\to\\infty}|Ef(Y_n) - Ef(X_n)| = 0$.\n",
    "\n",
    "$\\blacksquare$"
   ]
  },
  {
   "cell_type": "markdown",
   "id": "1cc472d8-e0a2-4a3a-a032-4920cb834169",
   "metadata": {},
   "source": [
    "### Theorem\n",
    "\n",
    "Suppose $X_n \\Rightarrow X$, $Z_n \\overset{P}{\\to}0$, then $X_n+Z_n \\Rightarrow X$."
   ]
  },
  {
   "cell_type": "markdown",
   "id": "b5cf962a-d9e1-4220-bd44-ef084877cd91",
   "metadata": {},
   "source": [
    "_Proof:_ prove is similar to proving the theorem: If $X_n \\overset{P}{\\rightarrow} X$ then $X_n \\Rightarrow X$. $\\blacksquare$"
   ]
  },
  {
   "cell_type": "markdown",
   "id": "4866c247-3c00-465f-a4c9-44af4f0be8a2",
   "metadata": {},
   "source": [
    "\n",
    "### Continuous mapping theorem\n",
    "\n",
    "Let $g$ be a measurable function and $D_g=\\{x: g \\text{ is discountuous at } x\\}$. Let $X_n \\Rightarrow X_\\infty$ and $P(X_\\infty\\in D_g) = 0$ then $g(X_n) \\Rightarrow g(X_\\infty)$. If $g$ is bounded then $Eg(X_n) \\rightarrow Eg(X_\\infty)$."
   ]
  },
  {
   "cell_type": "markdown",
   "id": "438a04cb-bd4b-4502-8350-cb0a27bbf816",
   "metadata": {},
   "source": [
    "_Proof:_\n",
    "To prove $g(X_n) \\Rightarrow g(X_\\infty)$ we want to prove that for all bounded continuous function $f$, we have $Ef\\circ{g}(X_n) \\rightarrow Ef\\circ{g}(X_\\infty)$. \n",
    "\n",
    "Let $f$ be any continuous and bounded. Let $Y_n \\rightarrow Y_\\infty$ a.s. with the distribution as $X_n, X_\\infty$. $f\\circ{g}(Y_n) \\rightarrow f\\circ{g}(Y_\\infty)$ a.s.. By the bounded convergence theorem, $Ef\\circ{g}(Y_n) \\rightarrow Ef\\circ{g}(Y_\\infty)$.\n",
    "\n",
    "If $g$ is bounded, by the bounded convergence theorem, $Eg(X_n) = Eg(Y_n) \\rightarrow Eg(Y_\\infty) = Eg(X_\\infty)$.\n",
    "\n",
    "$\\blacksquare$"
   ]
  },
  {
   "cell_type": "markdown",
   "id": "cce647e9-60c5-4716-b294-60babc4e72df",
   "metadata": {},
   "source": [
    "### Theorem: Join convergence in distribution\n",
    "\n",
    "Suppose $X_n \\Rightarrow X$, $Y_n \\overset{P}{\\to} c$, then $[X_n, Y_n]' \\Rightarrow [X,c]'$.\n"
   ]
  },
  {
   "cell_type": "markdown",
   "id": "592230da-064d-42b0-b2fd-ffa25e4d1ce5",
   "metadata": {},
   "source": [
    "_Proof:_\n",
    "\n",
    "Let $f(x,y)$ be any bounded continuous function, by the Portmanteau lemma, $Ef(X_n, c) \\to Ef(X,c)$, therefore $[X_n,c]' \\Rightarrow [X,c]'$. Therefore $\\{\\omega: |[X_n(\\omega), Y_n(\\omega)]' - [X_n(\\omega), c]'|\\} = \\{\\omega: |Y_n(\\omega) - c|\\} \\overset{P}{\\to} 0$.\n"
   ]
  },
  {
   "cell_type": "markdown",
   "id": "896af2f5-f307-4a87-a61a-e7704f9a6432",
   "metadata": {},
   "source": [
    "$$\n",
    "\\begin{align}\n",
    "[X_n, c]' \\Rightarrow [X, c]' \\\\\n",
    "[X_n, Y_n]' - [X_n, c]' \\overset{P}{\\to} 0\n",
    "\\end{align} \\bigg\\} [X_n, c]' + [X_n, Y_n]' - [X_n, c]' \\Rightarrow [X, c]'\n",
    "$$"
   ]
  },
  {
   "cell_type": "markdown",
   "id": "16670e11-1291-4cd7-970e-d0b77846e50e",
   "metadata": {},
   "source": [
    "### Slutsky's theorem\n",
    "\n",
    "Suppose $X_n \\Rightarrow X$, $Y_n \\overset{P}{\\to} c$, $Z_n \\overset{P}{\\to} d$, then:\n",
    "\n",
    "$$\n",
    "Z_n + Y_nX_n \\Rightarrow d + cX\n",
    "$$\n",
    "\n",
    "If $c \\neq 0$,\n",
    "\n",
    "$$\n",
    "Z_n + X_n/Y_n \\Rightarrow d + X/c\n",
    "$$\n"
   ]
  },
  {
   "cell_type": "markdown",
   "id": "02ef4093-f72c-4f1d-836d-8f4d88a62b89",
   "metadata": {},
   "source": [
    "_Proof:_ Since $[X_n, Y_n]' \\Rightarrow [X,c]'$ and $g(x,y) = xy$ or $g(x,y) = x/y$(given $y$ is not zero) is continuous, by the continuous mapping theorem, $Y_nX_n \\Rightarrow cX$, $Y_nX_n \\Rightarrow X/c$."
   ]
  },
  {
   "cell_type": "markdown",
   "id": "235d9a41-2912-4792-8018-c9c51f9a00d4",
   "metadata": {},
   "source": [
    "Similarly, $[Y_nX_n, Z_n]' \\Rightarrow [cX, d]$, $[Y_nX_n, Z_n]' \\Rightarrow [X/c, d]$, $g(x,y) = x+y$ is continuous, then the continuous mapping theorem.\n",
    "\n",
    "$\\blacksquare$"
   ]
  },
  {
   "cell_type": "markdown",
   "id": "069645cf-4844-4069-9503-434224197c14",
   "metadata": {},
   "source": [
    "### Thereom\n",
    "\n",
    "If $X_n \\Rightarrow X_\\infty$ then $\\phi_n(t) \\rightarrow \\phi(t)$ for all $t$."
   ]
  },
  {
   "cell_type": "markdown",
   "id": "ae648a37-f9ba-4336-88cc-76dec133a0f9",
   "metadata": {},
   "source": [
    "_Proof:_\n",
    "\n",
    "Use Continuous mapping theorem above. Applies becuase $g_t(X) = e^{itX}$ is continuous and bounded.\n",
    "\n",
    "$\\blacksquare$"
   ]
  },
  {
   "cell_type": "markdown",
   "id": "bc449378-0fa1-41d0-8190-603c43860423",
   "metadata": {},
   "source": [
    "### Definition: Tightness or Bounded in Probability\n",
    "\n",
    "Let $\\{F_n\\}$ be a sequence of probability distributions, we say the sequence $\\{F_n\\}$ is __tight__ or __bounded in probability__ if for all $\\epsilon \\gt 0$, $\\exists$ $M_\\epsilon$ such that:\n",
    "\n",
    "$$\n",
    "\\limsup\\limits_{n\\rightarrow\\infty}(1-F_n(M_\\epsilon) + F_n(-M_\\epsilon)) \\le \\epsilon\n",
    "$$\n",
    "\n",
    "$$\n",
    "\\limsup_{n\\rightarrow\\infty}\\int_{|x| \\gt M_\\epsilon}dF_n(x) = \\limsup_{n\\rightarrow\\infty}P(|X_n| \\gt M_\\epsilon) \\le \\epsilon\n",
    "$$"
   ]
  },
  {
   "cell_type": "markdown",
   "id": "b1dfa9f7-ab33-4980-9976-09694c913ae2",
   "metadata": {},
   "source": [
    "### Helly's selection theorem\n",
    "\n",
    "For every distribution sequence $F_n$, $\\exists$ a subsequence $F_{n(k)}$ and a non-decreasing and right continuous function $F$ so that $\\lim_{k\\rightarrow\\infty}F_{n(k)}(y)=F(y)$ for all continuous point $y$ of $F$."
   ]
  },
  {
   "cell_type": "markdown",
   "id": "e74d7e75-72c9-491d-b37b-e74e82c71949",
   "metadata": {},
   "source": [
    "Note: The function $F$ may not be a distribution function. If we let $F_n(x) = a\\mathbf{1}_{(x \\ge n)} + b\\mathbf{1}_{(x \\ge -n)} + cG(x)$ where $G$ is a distribution function and $a \\gt 0,b \\gt 0,c \\gt 0$ are constants such that $1 = a + b + c$. Then $F_n(x) \\rightarrow F(x) = b+cG(x)$. but $\\lim\\limits_{x\\downarrow{-\\infty}}F(x) = b \\ne 0$ and $\\lim\\limits_{x\\uparrow{\\infty}}F(x) = b+c=1-a \\ne 1$."
   ]
  },
  {
   "cell_type": "markdown",
   "id": "00578628-9a52-48c6-9f1f-ffbb4e82d400",
   "metadata": {},
   "source": [
    "### Theorem\n",
    "$F_n$ is tight iff every subsequence's limit function $F$ in Helly's selection theorem is a probability distribution function."
   ]
  },
  {
   "cell_type": "markdown",
   "id": "7b9e0ca0-dea2-4d4e-bb58-d8a43bca36c5",
   "metadata": {},
   "source": [
    "_Proof:_\n",
    "\n",
    "$\\Rightarrow$: Given $\\epsilon$ and $M_\\epsilon$, we have $\\limsup\\limits_{n\\rightarrow\\infty}(1-F_n(M_\\epsilon) + F_n(-M_\\epsilon)) \\le \\epsilon$. If $F_{n(k)}$ is a subsequence of $F_n$ such that $F_{n(k)}$ converges to a non-decreasing right continuous function $F$, then for $-x \\lt -M_\\epsilon$ and $x \\gt M_\\epsilon$, we have:\n",
    "\n",
    "$$\n",
    "\\begin{align}\n",
    "1-F(x) + F(-x) &= \\lim_{k\\rightarrow\\infty}(1-F_{n(k)}(x)+F_{n(k)}(-x)) \\\\\n",
    "&\\le \\limsup_{k\\rightarrow\\infty}(1-F_{n(k)}(M_\\epsilon)+F_{n(k)}(-M_\\epsilon)) \\le \\epsilon\n",
    "\\end{align}\n",
    "$$\n",
    "\n",
    "Since this is true for all $x$, by taking $x\\rightarrow\\infty$ we get $1- F(\\infty) + F(-\\infty) = 0$. That indicates $\\lim_{x\\rightarrow\\infty}F(x) = 1$ and $\\lim_{x\\rightarrow\\infty}F(-x) = 0$ which concludes that $F$ is a distribution function."
   ]
  },
  {
   "cell_type": "markdown",
   "id": "5c79e9cf-0e38-49da-95f3-42f07facbe39",
   "metadata": {},
   "source": [
    "$\\Leftarrow:$ Let's suppose $F_n$ is not tight, which means $\\exists$ an $\\epsilon$ and a subsequence $n(k)$ such that:\n",
    "\n",
    "$$\n",
    "1-F_{n(k)}(k) + F_{n(k)}(-k) \\ge \\epsilon\n",
    "$$\n",
    "\n",
    "for all $k$. By Helly's selection theorem there's a further subsequence $n(k_j)$ such that $F_{n(k_j)}(x)$ converges to $F(x)$ for all continuous points of $F$ which is a distribution function by assumption. However,\n",
    "\n",
    "$$\n",
    "\\begin{align}\n",
    "1-F(x) + F(-x) &= \\lim_{j\\rightarrow\\infty}(1-F_{n(k_j)}(x)+F_{n(k_j)}(-x)) \\\\\n",
    "&\\ge \\limsup_{j\\rightarrow\\infty}(1-F_{n(k_j)}(k_j)+F_{n(k_j)}(-k_j)) \\ge \\epsilon\n",
    "\\end{align}\n",
    "$$\n",
    "\n",
    "This is true for all $x$, take $x$ to the limit we have $1-F(\\infty) + F(-\\infty) \\ge \\epsilon$, which contradicts the assumption that $F$ is a distribution function. there for, $F_n$ is tight.\n",
    "\n",
    "$\\blacksquare$"
   ]
  },
  {
   "cell_type": "markdown",
   "id": "6c3a49ba-baa5-49ab-aa11-124d7cbadbf2",
   "metadata": {},
   "source": [
    "### Theorem: Sufficient condition for tightness\n",
    "\n",
    "If there's a function $\\phi(x) \\ge 0$ for all $x$ such that $\\phi(x) \\rightarrow \\infty$ as $|x| \\rightarrow \\infty$ and:\n",
    "\n",
    "$$\n",
    "C = \\sup_{n}\\int{\\phi(x)}dF_n(x) \\lt \\infty\n",
    "$$\n",
    "\n",
    "then $\\{F_n\\}$ is tight."
   ]
  },
  {
   "cell_type": "markdown",
   "id": "e1177f87-15fa-44e9-adce-52a75dd95194",
   "metadata": {},
   "source": [
    "_Proof:_\n",
    "\n",
    "$$\n",
    "\\begin{align}\n",
    "1 - F_n(M) + F_n(-M) &= \\int_{M}^{\\infty}dF_n(x) + \\int_{-\\infty}^{-M}dF_n(x) \\\\\n",
    "&= \\int_{|x| \\ge M}dF_n(x) \\\\\n",
    "&\\le \\int_{|x| \\ge M}{\\frac{\\phi(x)}{\\inf_{|x| \\ge M}\\phi(x)}}dF_n(x) \\\\\n",
    "&\\le \\frac{\\int_{|x| \\ge M}{\\phi(x)}dF_n(x)}{\\inf_{|x| \\ge M}\\phi(x)} \\\\\n",
    "&\\le \\frac{\\int{\\phi(x)}dF_n(x)}{\\inf_{|x| \\ge M}\\phi(x)}\n",
    "\\end{align}\n",
    "$$\n",
    "\n",
    "$$\n",
    "\\limsup_{n\\rightarrow\\infty}{(1 - F_n(M) + F_n(-M))} \\le \\frac{\\sup_{n}\\int{\\phi(x)}dF_n(x)}{\\inf_{|x| \\ge M}\\phi(x)} = \\frac{C}{\\inf_{|x| \\ge M}\\phi(x)}\n",
    "$$\n",
    "\n",
    "Since $\\phi(x) \\rightarrow \\infty$, the $\\inf_{|x| \\ge M}\\phi(x)$ can be made as large we we could by a larger $M$.\n",
    "\n",
    "$\\blacksquare$"
   ]
  },
  {
   "cell_type": "markdown",
   "id": "ee2840d9-f15e-4cf1-a79f-3dae04cae0a7",
   "metadata": {},
   "source": [
    "### Theorem\n",
    "\n",
    "If a sequence of characteristic functions $\\phi_n(t)$ converges pointwise to a limit $\\phi(t)$ and $\\phi(t)$ is continuous at $0$, then the associated distribution functions $F_n$ is tight. Furthermore, $F_n \\Rightarrow F$ where $F$ is the distribution function of $\\phi$."
   ]
  },
  {
   "cell_type": "markdown",
   "id": "96b9dd8d-fc34-41e1-baf5-0e4daf196c1c",
   "metadata": {},
   "source": [
    "_Proof:_\n",
    "\n",
    "Let $a \\gt 0$ be a constant.\n",
    "\n",
    "$$\n",
    "\\int_{-a}^{a}{1-e^{itx}}dt = 2a-\\int_{-a}^{a}{(costx + isintx)}dt = 2a - \\frac{2sinax}{x}\n",
    "$$"
   ]
  },
  {
   "cell_type": "markdown",
   "id": "f5b933e1-672f-4fb5-b64c-61c439555626",
   "metadata": {},
   "source": [
    "Divide bothsides with $a$, then integrate with $dF_n(x)$, i.e. $\\int{\\int_{-a}^{a}{1-e^{itx}}dt}dF_n(x)$, and since $1-e^{itx}$ is bounded and integrable in a bounded interval so the double integral has a finite value, by the Fubini theorem, exchange the two integrals we get:\n",
    "\n",
    "$$\n",
    "a^{-1}\\int_{-a}^{a}{(1-\\phi_n(t))}dt = 2\\int{\\Big(1-\\frac{sinax}{ax}\\Big)}dF_n(x)\n",
    "$$"
   ]
  },
  {
   "cell_type": "markdown",
   "id": "d171bd0d-7443-49b5-8239-0e11cd30ee1b",
   "metadata": {},
   "source": [
    "Since $|sinax| \\le |ax|$ we know the integrant is always $(1-\\frac{sinax}{ax}) \\ge 0$"
   ]
  },
  {
   "cell_type": "markdown",
   "id": "5a313b11-6dde-4610-abed-52da85a22f63",
   "metadata": {},
   "source": [
    "$$\n",
    "\\begin{align}\n",
    "2\\int{\\Big(1-\\frac{sinax}{ax}\\Big)}dF_n(x) &\\ge 2\\int{\\Big(1-\\frac{1}{|ax|}\\Big)}dF_n(x) \\\\\n",
    "&\\ge \\int_{|x| \\ge \\frac{2}{a}}{\\Big(2-\\frac{2}{|ax|}\\Big)}dF_n(x) \\\\\n",
    "&\\ge 1-F_n(2/a) + F_n(-2/a)\n",
    "\\end{align}\n",
    "$$"
   ]
  },
  {
   "cell_type": "markdown",
   "id": "1286ca3c-924a-4a0d-a141-8dcdbecd8b38",
   "metadata": {},
   "source": [
    "By the L'Hospital's rule, and the fact that Since $\\phi(t)$ is continuous at $0$, $\\phi(t) \\rightarrow 1$ as $t\\rightarrow 0$.\n",
    "\n",
    "$$\n",
    "\\lim_{a\\rightarrow 0}a^{-1}\\int_{-a}^{a}{(1-\\phi(t))}dt = \\lim_{a\\rightarrow 0}\\frac{\\phi(-a)-\\phi(a)}{1} = 0\n",
    "$$"
   ]
  },
  {
   "cell_type": "markdown",
   "id": "cfffaf52-8280-460b-9d76-81ea23fa9707",
   "metadata": {},
   "source": [
    "Therefore we could choose $a$ so that $a^{-1}\\int_{-a}^{a}{(1-\\phi(t))}dt \\lt \\epsilon$."
   ]
  },
  {
   "cell_type": "markdown",
   "id": "6dd2fe07-ab01-4e5c-a751-449d3ac29e7f",
   "metadata": {},
   "source": [
    "And since $\\phi_n(t) \\rightarrow \\phi(t)$ for all t. By the dominated convergence theorem, there's a $N$ such that for all $n \\gt N$:\n",
    "\n",
    "$$\n",
    "\\epsilon \\ge a^{-1}\\int_{-a}^{a}{(1-\\phi_n(t))}dt - a^{-1}\\int_{-a}^{a}{(1-\\phi(t))}dt\n",
    "$$\n",
    "\n",
    "$$\n",
    "\\begin{align}\n",
    "2\\epsilon \\ge \\epsilon + a^{-1}\\int_{-a}^{a}{(1-\\phi(t))}dt \\ge a^{-1}\\int_{-a}^{a}{(1-\\phi_n(t))}dt \\ge 1-F_n(2/a) + F_n(-2/a)\n",
    "\\end{align}\n",
    "$$"
   ]
  },
  {
   "cell_type": "markdown",
   "id": "a285ed29-f253-4c97-a64b-59764dcc66cd",
   "metadata": {},
   "source": [
    "Since $\\epsilon$ is arbitrary, $F_n$ is tight."
   ]
  },
  {
   "cell_type": "markdown",
   "id": "8541fb00-7d96-47b2-af15-c6d269c79250",
   "metadata": {},
   "source": [
    "To prove that $F_n \\Rightarrow F$ for some probability distribution $F$, we want to prove that for any continuous and bounded function $g$, $Eg(X_n) = \\int{g(x)}dF_n(x) \\rightarrow \\int{g(x)}dF(x) = Eg(X)$. \n"
   ]
  },
  {
   "cell_type": "markdown",
   "id": "cf78a4ec-ee47-4d01-8815-c68d6a3e1f6c",
   "metadata": {},
   "source": [
    "From real analysis, we know that a sequence convergence to a number iff for every subsequence there's further subsequence that converges to that number. By Helly's selection theorem, for every subsequence $F_{n(k)}$, there's a further subsequence $F_{n(k_j)} \\Rightarrow F$, since $F_n$ is tight, $F$ is a probability distribution. Every further subsequence converges to the same $F$ because all $F$ have the same characteristic function $\\phi$ by the condition that $\\phi_n(t) \\rightarrow \\phi(t)$."
   ]
  },
  {
   "cell_type": "markdown",
   "id": "52d72e18-b83d-49e2-b84c-9bf0ee40fad4",
   "metadata": {},
   "source": [
    "Therefore, for every subsequence $\\int{g(x)}dF_{n(k)}(x)$, there's a further subsequence $\\int{g(x)}dF_{n(k_j)}(x) \\rightarrow \\int{g(x)}dF(x)$, we have $\\int{g(x)}dF_{n(k)}(x) \\rightarrow \\int{g(x)}dF(x)$. $F_n \\Rightarrow F$.\n",
    "\n",
    "$\\blacksquare$"
   ]
  },
  {
   "cell_type": "markdown",
   "id": "9dc63f5f-0eaf-4fd3-8219-d650c8e9114d",
   "metadata": {},
   "source": [
    "## Central Limit Theorem"
   ]
  },
  {
   "cell_type": "markdown",
   "id": "ce2a0fa1-a9b6-4920-908f-0626f6381fbc",
   "metadata": {},
   "source": [
    "### Lemma\n",
    "\n",
    "$$\n",
    "\\Big| e^{ix} - \\sum_{k=0}^{n}\\frac{(ix)^k}{k!} \\Big| \\le \\frac{|x|^{n+1}}{(n+1)!} \\wedge \\frac{2|x|^n}{n!}\n",
    "$$"
   ]
  },
  {
   "cell_type": "markdown",
   "id": "3d5ef194-08cd-4cda-920e-a11af376b0db",
   "metadata": {},
   "source": [
    "_Proof:_\n",
    "\n",
    "Integration by parts:\n",
    "\n",
    "$$\n",
    "\\int_{0}^{x}(x-s)^ne^{is}ds = \\frac{x^{n+1}}{n+1} + \\frac{i}{n+1}\\int_{0}^{x}{(x-s)^{n+1}e^{is}}ds \\tag{1}\n",
    "$$"
   ]
  },
  {
   "cell_type": "markdown",
   "id": "a0a91dcb-f9f6-4bc7-938e-74120c8fb08e",
   "metadata": {},
   "source": [
    "When we replace $n$ by $n-1$ in (1):"
   ]
  },
  {
   "cell_type": "markdown",
   "id": "6f7a27ad-eacc-4106-bb44-e38ea2b53d78",
   "metadata": {},
   "source": [
    "$$\n",
    "\\begin{align}\n",
    "\\int_{0}^{x}(x-s)^{n-1}e^{is}ds &= \\frac{x^{n}}{n} + \\frac{i}{n}\\int_{0}^{x}{(x-s)^{n}e^{is}}ds \\\\\n",
    "\\end{align}\n",
    "$$"
   ]
  },
  {
   "cell_type": "markdown",
   "id": "24a71494-1861-4b74-aa0f-bb184b0c2eb1",
   "metadata": {},
   "source": [
    "$$\n",
    "\\begin{align}\n",
    "\\frac{i}{n}\\int_{0}^{x}{(x-s)^{n}e^{is}}ds &= \\int_{0}^{x}{(x-s)^{n-1}e^{is}}ds - \\int_{0}^{x}{(x-s)^{n-1}}ds \\\\\n",
    "&= \\int_{0}^{n}{(x-s)^{n-1}(e^{ix}-1)}ds \\tag{2}\n",
    "\\end{align}\n",
    "$$"
   ]
  },
  {
   "cell_type": "markdown",
   "id": "4a2eb712-44d6-49fd-8ae0-1016128076a6",
   "metadata": {},
   "source": [
    "When $n=0$, (1) gives us:\n",
    "\n",
    "$$\n",
    "\\begin{align}\n",
    "\\int_{0}^{x}e^{is}ds &= x + i\\int_{0}^{x}(x-s)e^{is}ds \\\\\n",
    "\\frac{e^{ix}-1}{i}&= x + i\\int_{0}^{x}(x-s)e^{is}ds \\\\\n",
    "e^{ix} &= 1 + ix + i^2 \\int_{0}^{x}{(x-s)e^{is}}ds\n",
    "\\end{align}\n",
    "$$"
   ]
  },
  {
   "cell_type": "markdown",
   "id": "edba8774-dabe-4b41-acd4-0945f65f377a",
   "metadata": {},
   "source": [
    "Iterate over $n$ and using (1) we have: \n",
    "\n",
    "$$\n",
    "e^{ix} = \\sum_{k=0}^{n}\\frac{(ix)^k}{k!} + \\frac{i^{n+1}}{n!}\\int_{0}^{x}(x-s)^ne^{is}ds \\tag{3}\n",
    "$$"
   ]
  },
  {
   "cell_type": "markdown",
   "id": "ad212880-1fbf-4196-a994-f339186d99f6",
   "metadata": {},
   "source": [
    "$$\n",
    "\\Big|e^{ix} - \\sum_{k=0}^{n}\\frac{(ix)^k}{k!} \\Big| \\le \\frac{1}{n!}\\int_{0}^{x}\\Big|(x-s)^n\\Big|ds \\le \\frac{|x|^{n+1}}{(n+1)!} \\tag{4}\n",
    "$$"
   ]
  },
  {
   "cell_type": "markdown",
   "id": "ac52e3e3-cd9f-499f-a8c8-655811151a7c",
   "metadata": {},
   "source": [
    "If we replace the integral on the right side of (3) with (2) we get:\n",
    "\n",
    "$$\n",
    "e^{ix} = \\sum_{k=0}^{n}\\frac{(ix)^k}{k!} + \\frac{i^{n}}{(n-1)!}\\int_{0}^{x}(x-s)^{n-1}(e^{is}-1)ds \\tag{5}\n",
    "$$"
   ]
  },
  {
   "cell_type": "markdown",
   "id": "7ed92bad-310a-41a9-8ad4-cc2ab4a09b70",
   "metadata": {},
   "source": [
    "Since $|e^{ix}-1| \\le 2$:\n",
    "\n",
    "$$\n",
    "\\Big|e^{ix} - \\sum_{k=0}^{n}\\frac{(ix)^k}{k!} \\Big| \\le \\frac{2}{(n-1)!}\\int_{0}^{x}\\Big|(x-s)^{n-1}\\Big|ds \\le \\frac{2|x|^{n}}{n!} \\tag{6}\n",
    "$$"
   ]
  },
  {
   "cell_type": "markdown",
   "id": "61e0061f-849a-4ca2-b782-c581d0a95d81",
   "metadata": {},
   "source": [
    "(4) and (6) gives the result we want.\n",
    "\n",
    "$\\blacksquare$"
   ]
  },
  {
   "cell_type": "markdown",
   "id": "b08133dc-5539-4c1b-80f0-f76713beeb76",
   "metadata": {},
   "source": [
    "\n",
    "### Theorem\n",
    "If $\\int{|x|^n}\\mu(dx) \\lt \\infty$, then the c.f $\\phi$ has a continuous derivative of order $n$ as follows:\n",
    "\n",
    "$$\n",
    "\\phi^{(n)}(t) = E[(iX)^ne^{itX}]\n",
    "$$"
   ]
  },
  {
   "cell_type": "markdown",
   "id": "b63402a3-83c5-4fd1-8a3e-2eab3fca0ff4",
   "metadata": {},
   "source": [
    "_Proof:_\n",
    "\n",
    "Prove by induction. first prove when $n=1$:\n",
    "\n",
    "$$\n",
    "\\begin{align}\n",
    "\\Big|\\frac{\\phi(t+h) - \\phi(t)}{h} - E[(iX)e^{itX}]\\Big| = E\\Big[ e^{itX}\\frac{e^{ihX}-1-ihX}{h} \\Big]\n",
    "\\end{align}\n",
    "$$"
   ]
  },
  {
   "cell_type": "markdown",
   "id": "bd5c5f5a-99a5-4e16-b434-f3cda2ba5c0d",
   "metadata": {},
   "source": [
    "The integrand on the right is bounded:\n",
    "\n",
    "$$\n",
    "\\begin{align}\n",
    "E\\Big| e^{itX}\\frac{e^{ihX}-1-ihX}{h} \\Big| &\\le E\\Big|\\frac{e^{ihX}-1-ihX}{h} \\Big| \\\\\n",
    "&\\le E\\Big[\\Big( \\frac{|hX|^2}{2}  \\wedge \\frac{4|hX|}{2} \\Big)\\frac{1}{h}\\Big]\n",
    "\\end{align}\n",
    "$$"
   ]
  },
  {
   "cell_type": "markdown",
   "id": "6aaeedbb-203d-4189-aa74-2296bab8bee5",
   "metadata": {},
   "source": [
    "The last inequality is bounded $\\le E2|X| \\lt \\infty$. And as $h \\to 0$ the right hand goes to zero."
   ]
  },
  {
   "cell_type": "markdown",
   "id": "ec864ee1-3567-4daa-ac3a-7079588a6677",
   "metadata": {},
   "source": [
    "Repeat the process to $n$.\n",
    "\n",
    "$\\blacksquare$"
   ]
  },
  {
   "cell_type": "markdown",
   "id": "6d43d185-ba4b-4810-8eb6-099a4e3a5b54",
   "metadata": {},
   "source": [
    "### Theorem\n",
    "\n",
    "If $E|X|^2 \\lt \\infty$, then:\n",
    "\n",
    "$$\n",
    "\\phi(t) = 1 + itEX - \\frac{t^2}{2} E[X^2] + o(t^2) \\tag{7}\n",
    "$$\n",
    "\n",
    "where $o(t^2)/t^2 \\to 0$ as $t \\to 0$."
   ]
  },
  {
   "cell_type": "markdown",
   "id": "efd98f88-b6a0-4676-a5ab-4b1f92676d5c",
   "metadata": {},
   "source": [
    "_Proof:_\n",
    "\n",
    "By the theorem above, we know that $\\phi$ is twice differentiable. Taylor series applies. By the Lemma above, we know that the remainder term is bounded and goes to zero as $t\\to 0$.\n",
    "\n",
    "$$\n",
    "| \\phi(t) - (1 + itEX - \\frac{t^2}{2} E[X^2]) | \\le \\frac{t^2}{3!}E[|t|\\dot |X|^3 \\wedge 6|X|^2] \\tag{8}\n",
    "$$\n",
    "\n",
    "$\\blacksquare$"
   ]
  },
  {
   "cell_type": "markdown",
   "id": "c3878a6f-f63a-4a13-9484-aebc64935704",
   "metadata": {},
   "source": [
    "### CLT Theorem\n",
    "\n",
    "Let $X_1, X_2,\\text{...}$ be iid with common mean and variance $\\mu$ and $\\sigma^2$, $S_n=\\sum_{i=1}^{n}X_i$, $\\bar{X} = S_n/n$, then:\n",
    "\n",
    "$$\n",
    "\\frac{\\bar{X} - \\mu}{\\sqrt{Var(\\bar{X})}} = \\frac{S_n-n\\mu}{\\sigma\\sqrt{n}} \\Rightarrow \\Phi(0,1)\n",
    "$$\n",
    "\n",
    "where $\\Phi(\\text{mean}, \\text{variance})$ is the normal distribution."
   ]
  },
  {
   "cell_type": "markdown",
   "id": "aea26827-80a7-448c-8655-d02e12142c1f",
   "metadata": {},
   "source": [
    "_Proof:_\n",
    "\n",
    "without loss of generality, we only need to prove $Y_i = X_i - \\mu$.\n",
    "\n",
    "$$\n",
    "\\phi_{Y_i}(t) = E[e^{itY_1}] = 1 - \\frac{\\sigma^2t^2}{2} + o(t^2)\n",
    "$$"
   ]
  },
  {
   "cell_type": "markdown",
   "id": "77a17147-480f-4e43-8768-cca68237aeb8",
   "metadata": {},
   "source": [
    "$$\n",
    "\\begin{align}\n",
    "\\phi_{S_n/\\sigma\\sqrt{n}}(t) &= E[e^{itS_n/\\sigma\\sqrt{n}}] = \\prod_{i=1}^{n}{\\phi_{Y_i}(t/\\sigma\\sqrt{n})} \\\\\n",
    "&=  \\Big( 1- \\frac{t^2}{2n} + o(n^{-1}) \\Big)^n \\\\\n",
    "&=  \\Big( 1- \\frac{t^2/2 + n\\cdot o(n^{-1})}{n}\\Big)^n\n",
    "\\end{align}\n",
    "$$"
   ]
  },
  {
   "cell_type": "markdown",
   "id": "0d4f5621-0b0d-43f3-814c-41bb2c5357be",
   "metadata": {},
   "source": [
    "$t^2/2 + n\\cdot o(n^{-1} \\to t^2/2$ as $n \\to \\infty$. $\\Big( 1- \\frac{t^2/2 + n\\cdot o(n^{-1})}{n}\\Big)^n \\to e^{-t^2/2}$ which is the characteristic function of standard normal.\n",
    "\n",
    "$\\blacksquare$"
   ]
  }
 ],
 "metadata": {
  "kernelspec": {
   "display_name": "R",
   "language": "R",
   "name": "ir"
  },
  "language_info": {
   "codemirror_mode": "r",
   "file_extension": ".r",
   "mimetype": "text/x-r-source",
   "name": "R",
   "pygments_lexer": "r",
   "version": "4.0.3"
  }
 },
 "nbformat": 4,
 "nbformat_minor": 5
}
