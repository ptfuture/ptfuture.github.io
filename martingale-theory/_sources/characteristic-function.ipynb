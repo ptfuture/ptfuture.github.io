{
 "cells": [
  {
   "cell_type": "markdown",
   "id": "21123a6b-7cee-4b5c-8cd5-2c2caafa6b4b",
   "metadata": {},
   "source": [
    "# Characteristic Function"
   ]
  },
  {
   "cell_type": "markdown",
   "id": "765d14b7-426b-40b0-bc06-26acd21374e1",
   "metadata": {},
   "source": [
    "If $X$ is a r.v., we define __characteristic function__"
   ]
  },
  {
   "cell_type": "markdown",
   "id": "28ec7b21-0b20-4a37-9077-8b1feec24848",
   "metadata": {},
   "source": [
    "$$\n",
    "\\begin{equation}\n",
    "\\phi(t)=\\int{e^{itx}}\\mu(dx)=Ee^{itX}=E\\cos(tX) + iEsin(tX)\n",
    "\\end{equation}\n",
    "$$"
   ]
  },
  {
   "cell_type": "markdown",
   "id": "0d8f05bf-520f-4a5d-abd2-261b70dba28f",
   "metadata": {},
   "source": [
    "## Properties\n",
    "\n",
    "1. $\\phi(0) = 1$\n",
    "2. $\\phi(-t)= \\overline{\\phi(t)}$\n",
    "3. $|\\phi(t)| = |Ee^{itX}| \\le E|e^{itX}| = 1$\n",
    "4. $|\\phi(t+h) - \\phi(t)| = |E[e^{i(t+h)X - e^{itX}}]| \\le E|e^{i(t+h)X - e^{itX}}| = E|e^{ihX}-1|$. By the bounded convergence theorem, last term $\\rightarrow 0$ as $h \\rightarrow 0$. Therefore $\\phi$ is uniformly continuous on $(-\\infty, +\\infty)$\n",
    "5. $Ee^{it(aX+b)} = e^{itb}Ee^{i(at)X} = e^{itb}\\phi(at)$\n",
    "6. If $X_1, X_2$ independent with c.f. $\\phi_1, \\phi_2$, then $X_1 + X_2$ has c.f. $\\phi_1(t)\\phi_2(t)$"
   ]
  },
  {
   "cell_type": "markdown",
   "id": "502826b0-5d03-4b27-9861-03f9bdd2f290",
   "metadata": {},
   "source": [
    "#### Example Std Normal distribution's c.f. $\\phi(t) = e^{-t^2/2}$\n",
    "\n",
    "$\\int{e^{itx}(2\\pi)^{-1/2}e^{-x^2/2}}dx = e^{-t^2/2}\\int{(2\\pi)^{-1/2}e^{-(x-it)^2/2}}dx$"
   ]
  },
  {
   "cell_type": "markdown",
   "id": "aae6fee8-6f20-41f1-88ea-98853098431f",
   "metadata": {},
   "source": [
    "## Inversion Theorem (cf to cdf)\n",
    "\n",
    "Let $\\phi(t)=\\int{e^{itx}}\\mu(dx)$ where $\\mu$ is a a probability measure. If $a \\lt b$ then,\n",
    "\n",
    "\n",
    "$$\n",
    "\\lim\\limits_{T \\rightarrow \\infty} \\int\\limits_{-T}^{T}{\\frac{e^{-ita}-e^{-itb}}{it}\\phi(t)}dt = \\mu((a,b)) + \\frac{1}{2}\\mu(\\{a,b\\})  \\tag{1}\n",
    "$$\n"
   ]
  },
  {
   "cell_type": "markdown",
   "id": "bc6401a5-3239-4405-9b6b-435d6c5f7edf",
   "metadata": {},
   "source": [
    "_Proof_:\n",
    "\n",
    "$\\frac{e^{-itx}-e^{-itb}}{it}$ is bounded by $b-a$:\n",
    "\n",
    "$$\n",
    "\\begin{equation}\n",
    "\\frac{e^{-itx}-e^{-itb}}{it} = \\int_{a}^{b}{e^{-ity}}dy\n",
    "\\end{equation}\n",
    "$$\n",
    "\n",
    "$$\n",
    "\\begin{equation}\n",
    "\\bigg|\\frac{e^{-itx}-e^{-itb}}{it}\\bigg| \\le \\int_{a}^{b}{|e^{-ity}|}dy \\le b-a\n",
    "\\end{equation}\n",
    "$$"
   ]
  },
  {
   "cell_type": "markdown",
   "id": "728dd7c2-03e8-4be0-931e-f4a14ed59c06",
   "metadata": {},
   "source": [
    "Therefore, by the Fubini theorem, $\\int\\limits_{-T}^{T}{\\frac{e^{-ita}-e^{-itb}}{it}\\phi(t)}dt = \\int\\limits_{-T}^{T}{\\int{\\frac{e^{-ita}-e^{-itb}}{it}e^{itx}\\mu(dx)}}dt$ is integrable and integrals can be exchanged: $\\int\\limits_{-T}^{T}{\\int{\\frac{e^{-ita}-e^{-itb}}{it}e^{itx}\\mu(dx)}}dt = \\int{\\int\\limits_{-T}^{T}{\\frac{e^{-ita}-e^{-itb}}{it}e^{itx}dt}}\\mu(dx)=\\int{\\int\\limits_{-T}^{T}{\\frac{e^{-it(x-a)}-e^{-it(x-b)}}{it}dt}}\\mu(dx)$. Since $cos(t)/it$ is an odd function, the real part of the function cancelled out. What we left is:"
   ]
  },
  {
   "cell_type": "markdown",
   "id": "2236ecf8-dbf7-4955-98df-003f9f39ab15",
   "metadata": {},
   "source": [
    "$$\n",
    "\\int{\\int\\limits_{-T}^{T}{\\frac{sin(t(x-a))}{t} - \\frac{sin(t(x-b))}{t}dt}}\\mu(dx) = \\int{ \\Big\\{   \\int\\limits_{-T}^{T}{      \\frac{sin(t(x-a))}{t}}dt - \\int\\limits_{-T}^{T}{\\frac{sin(t(x-b))}{t}}dt    \\Big\\}     }\\mu(dx)\n",
    "$$"
   ]
  },
  {
   "cell_type": "markdown",
   "id": "9b6f636c-a519-44be-b55d-d30d1473cd9c",
   "metadata": {},
   "source": [
    "Let $R(\\theta, T) = \\int_{-T}^{T}{\\frac{sin(t\\theta)}{t}}dt$, and let $s = t\\theta$, $R(\\theta, T) = \\int_{-T}^{T}{\\frac{sin(t\\theta)}{t}}dt = 2\\int_{0}^{T\\theta}{\\frac{sin(s)}{s}}ds$. Let $S(T)=\\int_{0}^{T}\\frac{sin(x)}{x}dx$. It can be calculated that as $T \\rightarrow \\infty$, $\\lim\\limits_{T \\rightarrow \\infty}S(T) = \\pi/2$. The integrant above is now:"
   ]
  },
  {
   "cell_type": "markdown",
   "id": "1233d3e0-4759-4791-97f1-9ed646400e72",
   "metadata": {},
   "source": [
    "$$\n",
    "\\begin{align}\n",
    "&R(x-a, T) - R(x-b, T) = 2\\text{sgn}(x-a)S(T(x-a)) - 2\\text{sgn}(x-b)S(T(x-b)) \\\\\n",
    "& \\overset{T\\rightarrow{\\infty}}{\\longrightarrow} \\begin{cases}\n",
    "2\\pi &\\quad a \\lt x \\lt b \\\\\n",
    "\\pi &\\quad x=a \\text{ or } x=b\\\\\n",
    "0 &\\quad x \\lt a \\text{ or } x \\gt b\n",
    "\\end{cases}\n",
    "\\end{align}\n",
    "$$"
   ]
  },
  {
   "cell_type": "markdown",
   "id": "91b4da23-1f0e-4266-9d11-ff3eea94f8c9",
   "metadata": {},
   "source": [
    "Since $R(\\theta, T) \\le 2\\sup_y{S(y)} \\lt \\infty$, the the bounded convergence theorem, \n",
    "\n",
    "$$\n",
    "\\frac{1}{2\\pi}\\int{(R(x-a, T) - R(x-b, T))}\\mu(dx) \\rightarrow \\mu((a,b)) + \\frac{1}{2}\\mu(\\{a,b\\})\n",
    "$$\n",
    "\n",
    "$\\blacksquare$"
   ]
  },
  {
   "cell_type": "markdown",
   "id": "41c7c946-7faa-4c56-b916-b35413a0104f",
   "metadata": {},
   "source": [
    "\n",
    "### Corollary\n",
    "\n",
    "$$\n",
    "\\mu(\\{a\\}) = \\lim\\limits_{T \\rightarrow \\infty}\\frac{1}{2T} \\int_{-T}^{T} {e^{-ita}\\phi(t)} dt\n",
    "$$"
   ]
  },
  {
   "cell_type": "markdown",
   "id": "2283296b-74cc-4756-97d9-ffbc3543d93b",
   "metadata": {},
   "source": [
    "_Proof:_\n",
    "\n",
    "$$\n",
    "\\begin{align}\n",
    "\\lim\\limits_{T \\rightarrow \\infty}\\frac{1}{2T} \\int_{-T}^{T} {e^{-ita}\\phi(t)}dt &= \\lim\\limits_{T \\rightarrow \\infty}\\frac{1}{2T} \\int_{-T}^{T} {\\int{e^{-ita}e^{itx}}\\mu(dx)} dt \\\\\n",
    "&= \\lim\\limits_{T \\rightarrow \\infty}\\frac{1}{2T} \\int_{-T}^{T} {\\int{e^{it(x-a)}}\\mu(dx)} dt \\\\\n",
    "&= \\lim\\limits_{T \\rightarrow \\infty}\\frac{1}{2T} \\int{ \\int_{-T}^{T}{e^{it(x-a)}}dt} \\mu(dx) \\\\\n",
    "&= \\lim\\limits_{T \\rightarrow \\infty} \\int{\\Big[ \\frac{e^{i(x-a)T}-e^{-i(x-a)T}}{2Ti(x-a)} \\Big]}\\mu(dx) \\\\\n",
    "&= \\lim\\limits_{T \\rightarrow \\infty} \\int{\\frac{sin((x-a)T)}{(x-a)T}}\\mu(dx) \\\\\n",
    "&=  \\lim\\limits_{T \\rightarrow \\infty} \\int\\limits_{x\\ne{a}}{\\frac{sin((x-a)T)}{(x-a)T}}\\mu(dx) + \\mu(\\{a\\}) \\\\\n",
    "&= \\mu(\\{a\\})\n",
    "\\end{align}\n",
    "$$"
   ]
  },
  {
   "cell_type": "markdown",
   "id": "fbc437c1-3c5a-44ab-8a6f-2d780ca3abec",
   "metadata": {},
   "source": [
    "## Theorem (cf to pdf)\n",
    "\n",
    "If $\\int{|\\phi(t)|}dt \\lt \\infty$ then $\\mu$ has bounded continuous density function\n",
    "\n",
    "$$\n",
    "f(x) = \\frac{1}{2\\pi}\\int{e^{-itx}\\phi(t)}dt\n",
    "$$"
   ]
  },
  {
   "cell_type": "markdown",
   "id": "b969e05a-b97f-420d-8693-9af4ea71a0bc",
   "metadata": {},
   "source": [
    "_Proof:_\n",
    "\n",
    "Bounded: $|f(x)| \\le \\frac{1}{2\\pi}\\int{|\\phi(t)|}dt \\lt \\infty$.\n",
    "\n",
    "Continuous: Let $x_n \\rightarrow x$, define $g_n(t) = e^{-itx_n}\\phi(t)$, $g(t) = e^{-itx}\\phi(t)$. $g_n \\rightarrow g$ pointwise and $|g_n(t)| \\le \\phi(t)$ and $\\phi(t)$ is integrable by assumption, therefore, by the dominated convenrgence theorem, $\\int{g_n(t)}dt \\rightarrow \\int{g(t)}dt$, eqv. $f(x_n) \\rightarrow f(x)$.\n",
    "\n",
    "Density function:\n",
    "\n",
    "\n",
    "$$\n",
    "\\begin{equation}\n",
    "\\bigg|\\frac{e^{-itx}-e^{-itb}}{it}\\bigg| \\le \\int_{a}^{b}{|e^{-ity}|}dy \\le b-a\n",
    "\\end{equation}\n",
    "$$\n",
    "\n",
    "Because the above equation is bounded and $\\phi(t)$ is integrable:\n",
    "\n",
    "$$\n",
    "\\mu((a,b)) + \\frac{1}{2}\\mu(\\{a,b\\}) = \\frac{1}{2\\pi}\\int_{\\infty}^{\\infty}{\\frac{e^{-ita}-e^{-itb}}{it}\\phi(t)}dt \\le \\frac{b-a}{2\\pi}\\int_{\\infty}^{\\infty}{\\phi(t)}dt \\lt \\infty\n",
    "$$\n",
    "\n",
    "and can as small as we can when $a,b$ gets closer and closer. That means $\\mu$ has no point masses.\n",
    "\n",
    "$$\n",
    "\\begin{align}\n",
    "\\mu((x,x+h)) &= \\frac{1}{2\\pi}\\int{\\frac{e^{-itx}-e^{-it(x+h)}}{it}\\phi(t)}dt \\\\\n",
    "&= \\frac{1}{2\\pi}\\int{\\Big(\\int_{x}^{x+h}{e^{-itx}}dy\\Big)\\phi(t)}dt \\\\\n",
    "&= \\int_{x}^{x+h}\\Big({\\frac{1}{2\\pi}\\int{e^{-itx}\\phi(t)}}dt\\Big)dy \\\\\n",
    "\\end{align}\n",
    "$$\n",
    "\n",
    "$\\blacksquare$"
   ]
  }
 ],
 "metadata": {
  "kernelspec": {
   "display_name": "Python 3",
   "language": "python",
   "name": "python3"
  },
  "language_info": {
   "codemirror_mode": {
    "name": "ipython",
    "version": 3
   },
   "file_extension": ".py",
   "mimetype": "text/x-python",
   "name": "python",
   "nbconvert_exporter": "python",
   "pygments_lexer": "ipython3",
   "version": "3.9.5"
  }
 },
 "nbformat": 4,
 "nbformat_minor": 5
}
