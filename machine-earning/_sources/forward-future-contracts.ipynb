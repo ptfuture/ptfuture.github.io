{
 "cells": [
  {
   "cell_type": "markdown",
   "id": "fa8d1674-a84f-4d7a-abba-271c8a89821d",
   "metadata": {},
   "source": [
    "# Forward and Future contracts\n",
    "\n",
    "- Forwards are OTC traded contracts between two financial institutions\n",
    "- Futures are like forward, but with daily settlements, margin calls and traded in exchanges.\n"
   ]
  },
  {
   "cell_type": "markdown",
   "id": "0f52d845-29d4-4fcd-927f-e5f95bbb7c67",
   "metadata": {},
   "source": [
    "## Pricing Forward contract\n",
    "\n",
    "**Video lecture: https://youtu.be/cJtS0ULSmhs**\n",
    "\n",
    "$T$ is the time to maturity. $r$ is the risk-free rate, $F_0$ is the forward price.\n",
    "\n",
    "$$\n",
    "F_0=S_0e^{rT} \\tag{1}\n",
    "$$\n",
    "\n",
    "\n"
   ]
  },
  {
   "cell_type": "markdown",
   "id": "dd873cef-9608-4ae2-bb4d-8014210a250a",
   "metadata": {},
   "source": [
    "- If $F_0 \\gt S_0e^{rT}$, arbitrageurs can buy the asset from the spot market and short the forward contract.\n",
    "- If $F_0 \\lt S_0e^{rT}$, arbitrageurs can short the asset from realize at the spot price $S_0$, invest the earnings to at risk-free interest rate $r$ for $T$ period of time, and long the forward contract. after $T$ period of time, use the asset realized from the forward contract and return to the borrower."
   ]
  },
  {
   "cell_type": "markdown",
   "id": "7837becb-df3c-4f0a-a359-cad2852598f2",
   "metadata": {},
   "source": [
    "__Asset with lump-sum Income:__\n",
    "\n",
    "An asset could produce known income, for example stocks paying dividends and coupon-bearing bonds, the forward contract's price will have to adjusted. \n",
    "\n",
    "Supose an investment asset will provide income of $C_{1}$ at maturity $T_1$ where $T_1 \\lt T$, given the risk-free interest rate is $r_c$ for $T_1$ period of time, the present value of income is $I_1=C_1e^{-rT_1}$. After $T_1$, the $T_1$ amount of money can be repay back to the borrower. Only the rest of the money $S_0 - C_1$ is borrowed at interest rate $r$. Which gives us the pricing formula for the forward contract:"
   ]
  },
  {
   "cell_type": "markdown",
   "id": "854d6ccd-1f6b-4f6f-9c38-cb65ff916e51",
   "metadata": {},
   "source": [
    "$$\n",
    "F_0 = (S_0-I_1)e^{rT} \\tag{2}\n",
    "$$"
   ]
  },
  {
   "cell_type": "markdown",
   "id": "a6b589ea-fddd-4a04-886c-4fcb674f7e98",
   "metadata": {},
   "source": [
    "When there are $n$ lump-sum incomes during the forward contract period $T$, say $C_1$ at $T_1$, $C_2$ at $T_2$ to $C_n$ at $T_n$ where $T_1 \\lt T_2 \\lt...\\lt T_n\\le T$. And assuming the risk-free interest rates for each of the $T_k$ periods are $r_{c_1},...,r_{c_n}$. The present values of these $n$ lump-sum incomes are $I_k=C_ke^{-r_{c_k}T_k}$. The price of the forward contract should be:"
   ]
  },
  {
   "cell_type": "markdown",
   "id": "02b4f876-52fe-4f25-8d5b-c8c5e7b6f64f",
   "metadata": {},
   "source": [
    "$$\n",
    "F_0 = (S_0-\\sum_{k=1}^{n}I_k)e^{rT} \\tag{3}\n",
    "$$"
   ]
  },
  {
   "cell_type": "markdown",
   "id": "f34179df-061b-4822-9d1e-8094bcf28799",
   "metadata": {},
   "source": [
    "__Asset with yield:__\n",
    "\n",
    "If the underlying asset of a forward contract provides a known yield $q$ continuously compounded of the asset price $S_0$. If the risk-free interest rate to borrow money from is $r$, then the actual interest rate applies is $r-q$. So the Forward price should be:"
   ]
  },
  {
   "cell_type": "markdown",
   "id": "b335a2ba-074d-4c68-ad9d-b5518eb2ad46",
   "metadata": {},
   "source": [
    "$$\n",
    "F_0=S_0e^{(r-q)T} \\tag{4}\n",
    "$$"
   ]
  },
  {
   "cell_type": "markdown",
   "id": "815b5cf5-b7ca-414e-b5a3-0f81fb03576b",
   "metadata": {},
   "source": [
    "__Valuating Forward contracts:__\n",
    "\n",
    "Suppose we bought a forward contract at $F_0$ sometime ago. And today, after $t$ time passed, if we negotiate the same contract but opposite position which will mature same as the previously bought contract $T$ period of time from now, with price $F_t$, then the value of the contract is the payoff if we short a forward contract today at $F_t$ discounted at the risk-free interest rate $r$ for $T$ period of time. So financial institutions defines the value of a forward contract by taking the discounted value of $F_t-F_0$, that is:\n",
    "\n",
    "$$\n",
    "V_t=(F_t-F_0)e^{-rT} \\tag{5}\n",
    "$$"
   ]
  },
  {
   "cell_type": "markdown",
   "id": "ea685a42-f215-435c-8e85-36d4fb8e1a9e",
   "metadata": {},
   "source": [
    "Combining (1) and (5):\n",
    "\n",
    "$$\n",
    "V_t = S_t - F_0e^{-rT} \\tag{6}\n",
    "$$"
   ]
  },
  {
   "cell_type": "markdown",
   "id": "5f1fcb6c-82f2-40fa-9972-2cafe08d22d1",
   "metadata": {},
   "source": [
    "Combining (3) and (5):\n",
    "\n",
    "$$\n",
    "V_t = S_0-\\sum_{k=1}^{n}I_k - F_0e^{-rT} \\tag{7}\n",
    "$$"
   ]
  }
 ],
 "metadata": {
  "kernelspec": {
   "display_name": "Python 3",
   "language": "python",
   "name": "python3"
  },
  "language_info": {
   "codemirror_mode": {
    "name": "ipython",
    "version": 3
   },
   "file_extension": ".py",
   "mimetype": "text/x-python",
   "name": "python",
   "nbconvert_exporter": "python",
   "pygments_lexer": "ipython3",
   "version": "3.9.5"
  }
 },
 "nbformat": 4,
 "nbformat_minor": 5
}
