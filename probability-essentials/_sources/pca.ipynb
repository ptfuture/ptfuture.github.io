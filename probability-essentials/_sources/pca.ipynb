{
 "cells": [
  {
   "cell_type": "markdown",
   "id": "7005337f-1d23-4861-a7fe-ede56569ec4c",
   "metadata": {},
   "source": [
    "# Principal Components Analysis"
   ]
  },
  {
   "cell_type": "markdown",
   "id": "9c4fc17f-a4ac-463b-ab65-bf1f5422b248",
   "metadata": {},
   "source": [
    "Let $\\mathbf{X} \\sim N(\\mathbf{\\mu, \\Sigma})$. Then\n",
    "$$\n",
    "\\Lambda = \\Gamma \\Sigma \\Gamma'\n",
    "$$\n",
    "\n",
    "Assume $\\lambda_1 \\ge \\lambda_2 \\ge ... \\ge \\lambda_1 \\gt 0$\n",
    "\n",
    "Then \n",
    "\n",
    "$$\n",
    "\\mathbf{Y}=\\Gamma(X-\\mu) \\sim N(\\mathbf{0, \\Lambda})\n",
    "$$\n",
    "\n",
    "$Y$ is call the vector of principal components. And:\n",
    "$$\n",
    "\\Gamma = \\begin{bmatrix}\n",
    "  \\vec{v_1}' \\\\\n",
    "  \\vec{v_2}' \\\\\n",
    "  ...        \\\\\n",
    "  \\vec{v_n}'\n",
    "\\end{bmatrix}\n",
    "$$\n",
    "\n",
    "where $\\vec{v_i}$ are the orthonormal eigenvector basis.\n",
    "\n",
    "## Total variance\n",
    "\n",
    "$$\n",
    "\\begin{aligned}\n",
    "\\tau(X) & = \\sum_{i=1}^n\\sigma^2 = trace(\\Sigma) \\\\\n",
    "        & = trace(\\Gamma'\\Lambda\\Gamma) = trace(\\Lambda\\Gamma\\Gamma') \\\\\n",
    "        & = \\sum_{i=1}^n\\lambda_i = trace(\\Lambda) \\\\\n",
    "        & = \\tau(Y)\n",
    "\\end{aligned}\n",
    "$$\n",
    "\n",
    "## Principal Component\n",
    "\n",
    "For all any $\\mathbf{a} = \\sum_1^na_i\\mathbf{v_i}$, such that $\\lVert\\mathbf{a}\\rVert^2 = 1$\n",
    "\n",
    "$$\n",
    "Var(\\mathbf{a'X}) \\le Var(Y_1)\n",
    "$$\n",
    "\n",
    "Proof:\n",
    "\n",
    "Since $v_i$ are orthonormal basis, for \n",
    "\n",
    "$$\n",
    "\\begin{aligned}\n",
    "  Var(\\mathbf{\\mathbf{a'}X}) & = \\mathbf{a'} \\Sigma a \\\\\n",
    "                  & = [\\mathbf{a'v_1}, \\mathbf{a'v_2},\\dots,\\mathbf{a'v_n}] \\Lambda \\begin{bmatrix}\n",
    "                    \\mathbf{v_1'a} \\\\\n",
    "                    \\mathbf{v_2'a} \\\\\n",
    "                    \\dots \\\\\n",
    "                    \\mathbf{v_n'a}\n",
    "                  \\end{bmatrix} \\\\\n",
    "                  & = [\\lambda_1 \\mathbf{a'v_1}, \\lambda_2 \\mathbf{a'v_2},\\dots, \\lambda_n \\mathbf{a'v_n}]\\begin{bmatrix}\n",
    "                    \\mathbf{v_1'a} \\\\\n",
    "                    \\mathbf{v_2'a} \\\\\n",
    "                    \\dots \\\\\n",
    "                    \\mathbf{v_n'a}\n",
    "                  \\end{bmatrix} \\\\\n",
    "                  & = \\sum_1^n \\lambda_i (\\mathbf{a'v_i})^2 \\\\\n",
    "                  & = \\sum_1^n \\lambda_i a_i^2 \\le \\lambda_1 = Var(Y_1)\n",
    "\\end{aligned} \n",
    "$$"
   ]
  }
 ],
 "metadata": {
  "kernelspec": {
   "display_name": "Python 3",
   "language": "python",
   "name": "python3"
  },
  "language_info": {
   "codemirror_mode": {
    "name": "ipython",
    "version": 3
   },
   "file_extension": ".py",
   "mimetype": "text/x-python",
   "name": "python",
   "nbconvert_exporter": "python",
   "pygments_lexer": "ipython3",
   "version": "3.9.5"
  }
 },
 "nbformat": 4,
 "nbformat_minor": 5
}
