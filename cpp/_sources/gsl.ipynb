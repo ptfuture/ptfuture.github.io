{
 "cells": [
  {
   "cell_type": "markdown",
   "id": "017fe493-b655-4cce-91dd-28f45a5c9c97",
   "metadata": {
    "tags": []
   },
   "source": [
    "# Concurrency"
   ]
  },
  {
   "cell_type": "markdown",
   "id": "eb508ace-a62e-452f-9272-5d007677d4a7",
   "metadata": {},
   "source": [
    "## Atomic Ops"
   ]
  },
  {
   "cell_type": "code",
   "execution_count": 9,
   "id": "b32cf157-67b7-45e4-883f-ec74940c8c3b",
   "metadata": {},
   "outputs": [],
   "source": [
    "#include \"presets.h\"\n",
    "#include <iostream>\n",
    "#include <gsl/gsl_math.h>\n",
    "#include <gsl/gsl_sf_bessel.h>\n",
    "\n",
    "using namespace std;"
   ]
  },
  {
   "cell_type": "code",
   "execution_count": 11,
   "id": "0d017199-3f22-4402-a6f5-254dfd842e9c",
   "metadata": {},
   "outputs": [
    {
     "name": "stdout",
     "output_type": "stream",
     "text": [
      "5 -0.177597\n"
     ]
    }
   ],
   "source": [
    "double x = 5.0;\n",
    "double y = gsl_sf_bessel_J0 (x);\n",
    "\n",
    "cout << x << \" \" << y << endl; "
   ]
  },
  {
   "cell_type": "code",
   "execution_count": null,
   "id": "42c7f151-df27-4ea7-9ae5-b44c1d70a2cf",
   "metadata": {},
   "outputs": [],
   "source": []
  }
 ],
 "metadata": {
  "kernelspec": {
   "display_name": "C++17",
   "language": "C++17",
   "name": "xcpp17"
  },
  "language_info": {
   "codemirror_mode": "text/x-c++src",
   "file_extension": ".cpp",
   "mimetype": "text/x-c++src",
   "name": "c++",
   "version": "17"
  }
 },
 "nbformat": 4,
 "nbformat_minor": 5
}
