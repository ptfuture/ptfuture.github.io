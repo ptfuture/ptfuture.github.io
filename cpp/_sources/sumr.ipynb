{
 "cells": [
  {
   "cell_type": "markdown",
   "id": "5ad2f7a5-028f-4cc5-9528-c2231047cae7",
   "metadata": {},
   "source": [
    "# SUMR"
   ]
  }
 ],
 "metadata": {
  "kernelspec": {
   "display_name": "C++17",
   "language": "C++17",
   "name": "xcpp17"
  },
  "language_info": {
   "codemirror_mode": "text/x-c++src",
   "file_extension": ".cpp",
   "mimetype": "text/x-c++src",
   "name": "c++",
   "version": "17"
  }
 },
 "nbformat": 4,
 "nbformat_minor": 5
}
