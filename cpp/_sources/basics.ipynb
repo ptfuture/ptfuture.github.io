{
 "cells": [
  {
   "cell_type": "markdown",
   "id": "d3350dbe-28d1-408b-bc70-e5a25a9154cf",
   "metadata": {},
   "source": [
    "# C++ 11/14/17/20 Basics"
   ]
  },
  {
   "cell_type": "markdown",
   "id": "eb07e5fd-0295-4285-836f-c7124029c04d",
   "metadata": {},
   "source": [
    "## Functions & Lambda"
   ]
  },
  {
   "cell_type": "code",
   "execution_count": 1,
   "id": "30ed6c40-636c-4f97-b5fb-eeccfbedc446",
   "metadata": {},
   "outputs": [],
   "source": [
    "#include <iostream>\n",
    "using func_type = int(int);\n",
    "using stdfunc_type = std::function<int(int)>;"
   ]
  },
  {
   "cell_type": "code",
   "execution_count": 7,
   "id": "eefa955c-3b37-44f4-a8f8-4817d32cd671",
   "metadata": {},
   "outputs": [],
   "source": [
    "int regular_function(int arg)\n",
    "{\n",
    "    return arg;\n",
    "}"
   ]
  },
  {
   "cell_type": "code",
   "execution_count": 8,
   "id": "41313c26-21f2-479c-864f-da473a4f477e",
   "metadata": {},
   "outputs": [],
   "source": [
    "int three_arg_function(std::string arg1, double arg2, int arg3) {\n",
    "    std::cout << \"arg1: \" << arg1 << \" arg2: \" << arg2 << std::endl;\n",
    "    return arg3;\n",
    "}"
   ]
  },
  {
   "cell_type": "code",
   "execution_count": 9,
   "id": "9e5bf2c9-d0c0-407a-8e61-cddd91956068",
   "metadata": {},
   "outputs": [],
   "source": [
    "void using_callback(int var, func_type callback)\n",
    "{\n",
    "    if (callback(var) > 0)\n",
    "    {\n",
    "        std::cout << \" Callback resunt > 0\" << std::endl;\n",
    "    } else {\n",
    "        std::cout << \" Callback resunt <= 0\" << std::endl;\n",
    "    }\n",
    "}"
   ]
  },
  {
   "cell_type": "code",
   "execution_count": 10,
   "id": "8820e4c6-2f13-4e24-b042-efab2fb1b886",
   "metadata": {},
   "outputs": [],
   "source": [
    "void using_stdfunc(int var, stdfunc_type callback)\n",
    "{\n",
    "    if (callback(var) > 0)\n",
    "    {\n",
    "        std::cout << \" Callback resunt > 0\" << std::endl;\n",
    "    } else {\n",
    "        std::cout << \" Callback resunt <= 0\" << std::endl;\n",
    "    }\n",
    "}"
   ]
  },
  {
   "cell_type": "code",
   "execution_count": 11,
   "id": "c66526bc-fe72-403d-84ae-b30b00694eff",
   "metadata": {},
   "outputs": [
    {
     "name": "stdout",
     "output_type": "stream",
     "text": [
      " Callback resunt > 0\n",
      " Callback resunt <= 0\n",
      " Callback resunt > 0\n",
      " Callback resunt > 0\n"
     ]
    }
   ],
   "source": [
    "using_callback(1, regular_function);\n",
    "using_callback(-1, regular_function);\n",
    "using_callback(-1, [](auto arg) {\n",
    "    return arg * arg;\n",
    "});\n",
    "using_stdfunc(1, regular_function);"
   ]
  },
  {
   "cell_type": "markdown",
   "id": "05433863-7660-4464-ac1a-8f66ea74f164",
   "metadata": {},
   "source": [
    "## Threading & Async"
   ]
  },
  {
   "cell_type": "markdown",
   "id": "5b1f00ff-4bff-46d2-8691-cc344ca6c70e",
   "metadata": {},
   "source": [
    "## Async & Future"
   ]
  },
  {
   "cell_type": "code",
   "execution_count": 1,
   "id": "ae647025-51a5-4328-894c-313b784cd123",
   "metadata": {},
   "outputs": [],
   "source": [
    "#include <future>"
   ]
  },
  {
   "cell_type": "code",
   "execution_count": null,
   "id": "f078fb37-c564-4620-ba47-7cc6d91e55cf",
   "metadata": {},
   "outputs": [],
   "source": []
  },
  {
   "cell_type": "markdown",
   "id": "24635756-b246-4794-8901-292dd2f57371",
   "metadata": {},
   "source": [
    "## Atomic"
   ]
  },
  {
   "cell_type": "code",
   "execution_count": 8,
   "id": "e039e95d-3331-4688-bb82-e63a66ddd098",
   "metadata": {},
   "outputs": [],
   "source": [
    "#include \"presets.h\"\n",
    "#include <iostream>\n",
    "#include <vector>\n",
    "#include <thread>\n",
    "\n",
    "\n"
   ]
  },
  {
   "cell_type": "code",
   "execution_count": null,
   "id": "2a656c3c-b8ca-41e6-9c0a-5c9836ae2af4",
   "metadata": {},
   "outputs": [],
   "source": []
  }
 ],
 "metadata": {
  "kernelspec": {
   "display_name": "C++17",
   "language": "C++17",
   "name": "xcpp17"
  },
  "language_info": {
   "codemirror_mode": "text/x-c++src",
   "file_extension": ".cpp",
   "mimetype": "text/x-c++src",
   "name": "c++",
   "version": "17"
  }
 },
 "nbformat": 4,
 "nbformat_minor": 5
}
