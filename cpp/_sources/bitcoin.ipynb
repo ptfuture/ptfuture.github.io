{
 "cells": [
  {
   "cell_type": "markdown",
   "id": "3dbd530a-ee25-466b-aab7-ff1b5749daba",
   "metadata": {},
   "source": [
    "# Bitcoin"
   ]
  }
 ],
 "metadata": {
  "kernelspec": {
   "display_name": "C++17",
   "language": "C++17",
   "name": "xcpp17"
  },
  "language_info": {
   "codemirror_mode": "text/x-c++src",
   "file_extension": ".cpp",
   "mimetype": "text/x-c++src",
   "name": "c++",
   "version": "17"
  }
 },
 "nbformat": 4,
 "nbformat_minor": 5
}
