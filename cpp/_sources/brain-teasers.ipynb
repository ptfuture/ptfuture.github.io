{
 "cells": [
  {
   "cell_type": "markdown",
   "id": "47b3035c-c1d7-4f3a-9d67-e6e0adc757d6",
   "metadata": {},
   "source": [
    "# Brain teasers\n",
    "\n",
    "## Expected sum of distances in a triangle.\n",
    "\n",
    "Question: Triangle ABC has sides of length 45, 60, and 75. Place a point D randomly and uniformly inside the triangle. What is the expected value of the sum of perpendicular distances from point D to the triangle's three sides?\n",
    "\n",
    "- Solving it mathematically: https://youtu.be/SbS2N4WZJjM\n",
    "- Solving it numerically: https://youtu.be/ZcBwHGvYc3I"
   ]
  },
  {
   "cell_type": "markdown",
   "id": "8f71b01c-06c9-4173-8bea-5a446fdb2b90",
   "metadata": {},
   "source": [
    "![fishy](./images/triangle.jpg)"
   ]
  },
  {
   "cell_type": "code",
   "execution_count": 8,
   "id": "47385bb8-b355-4532-9e6e-b48e867e9dfd",
   "metadata": {},
   "outputs": [],
   "source": [
    "#include \"presets.h\"\n",
    "#include <iostream>\n",
    "#include <gsl/gsl_math.h>\n",
    "#include <gsl/gsl_rng.h>"
   ]
  },
  {
   "cell_type": "code",
   "execution_count": 9,
   "id": "3845b8e2-7030-45ae-b29b-f7424f7f5f6e",
   "metadata": {},
   "outputs": [],
   "source": [
    "gsl_rng *r;"
   ]
  },
  {
   "cell_type": "code",
   "execution_count": 10,
   "id": "a127eec6-c961-47df-ab3e-e551249abbcd",
   "metadata": {},
   "outputs": [],
   "source": [
    "void setup_rng() {\n",
    "    gsl_rng_env_setup();\n",
    "    const gsl_rng_type * rng_type = gsl_rng_default;\n",
    "    r = gsl_rng_alloc (rng_type);\n",
    "}"
   ]
  },
  {
   "cell_type": "code",
   "execution_count": 11,
   "id": "246ab023-932e-4857-890c-2cb8764f2406",
   "metadata": {},
   "outputs": [],
   "source": [
    "double avg_sum_of_distances(int repeats) {\n",
    "    double sum = 0.0;\n",
    "    auto i = 0;\n",
    "    while (i < repeats) {\n",
    "        auto x = gsl_rng_uniform (r) * 45;\n",
    "        auto y = gsl_rng_uniform (r) * 60;\n",
    "        if (y > 60 - 4*x/3) continue;\n",
    "        i++;\n",
    "        auto h = 36 - 3*y/5 - 4*x/5;\n",
    "        sum+= (x+y+h);\n",
    "    }\n",
    "    return sum/repeats;\n",
    "}"
   ]
  },
  {
   "cell_type": "code",
   "execution_count": 12,
   "id": "7c5d5e5e-1516-42ac-8fa5-709ab13d4c04",
   "metadata": {},
   "outputs": [
    {
     "name": "stdout",
     "output_type": "stream",
     "text": [
      "47.0007\n"
     ]
    }
   ],
   "source": [
    "setup_rng();\n",
    "auto avg = avg_sum_of_distances(1e7);\n",
    "std::cout << avg << std::endl;\n",
    "gsl_rng_free (r);"
   ]
  }
 ],
 "metadata": {
  "kernelspec": {
   "display_name": "C++17",
   "language": "C++17",
   "name": "xcpp17"
  },
  "language_info": {
   "codemirror_mode": "text/x-c++src",
   "file_extension": ".cpp",
   "mimetype": "text/x-c++src",
   "name": "c++",
   "version": "17"
  }
 },
 "nbformat": 4,
 "nbformat_minor": 5
}
