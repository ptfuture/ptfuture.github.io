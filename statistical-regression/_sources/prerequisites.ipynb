{
 "cells": [
  {
   "cell_type": "markdown",
   "metadata": {},
   "source": [
    "# Prerequisites\n",
    "\n",
    "**Video lecture: https://youtu.be/Xtjt4QddNQw**\n",
    "\n",
    "$\\newcommand{\\norm}[1]{\\left\\lVert#1\\right\\rVert}$\n",
    "\n",
    "## Theorem\n",
    "\n",
    "If $A$ is an $m \\times n$ matrix with rank $n$, then $A^{\\intercal}A$ is invertible.\n",
    "\n",
    "Proof:\n",
    "\n",
    "Let $\\mathbf{x}$ be such that $\\mathbf{A}^{\\intercal}\\mathbf{A}\\mathbf{x}=\\mathbf{0}$, then $\\mathbf{x^{\\intercal}A^{\\intercal}}\\mathbf{Ax} = \\langle\\mathbf{Ax}, \\mathbf{Ax}\\rangle = 0$ which indicates $\\mathbf{x}$ is in the null space of $\\mathbf{A}$, therefore, $\\mathbf{x} = 0$.\n",
    "\n",
    "\n",
    "## Projection Matrix and Least Squared Method\n",
    "\n",
    "$\\mathbf{Xb}=\\mathbf{y}$ where $X$ is the predictor variables, $b$ is the parameters of the linear equations and $y$ is the response variables.\n",
    "\n",
    "$$\n",
    "\\begin{align}\n",
    "b_0 + b_1x_1 =& y_1 \\\\\n",
    "b_0 + b_1x_2 =& y_2 \\\\\n",
    "b_0 + b_1x_3 =& y_3 \\\\\n",
    "b_0 + b_1x_4 =& y_4\n",
    "\\end{align}\n",
    "$$\n",
    "\n",
    "Where $X = \\begin{bmatrix} 1 & x_1 \\\\ 1 & x_2 \\\\ 1 & x_3 \\\\ 1 & x_4 \\end{bmatrix}$, $b=[b_0, b_1]^{\\intercal}$, $y=[y_1, y_2, y_3, y_4]^{\\intercal}$.\n",
    "\n",
    "We may not be able to solve this linear equation. But we could find the closest solution $\\hat{b}$ such that $X\\hat{b}$ is the closest to the $y$. That is $\\hat{b} = \\underset{b}{\\mathrm{argmin}} \\norm{y-Xb}^2$. \n",
    "\n",
    "Interpretting in vectors, the projected vector of $\\mathbf{b}$ onto the column space of $\\mathbf{X}$ is what minimized $\\norm{\\mathbf{y-Xb}}$. Which indicates $\\mathbf{y} - \\mathbf{X\\hat{b}}$ is orthnogal to all linear span of the columns of $\\mathbf{X}$. Therefore:\n",
    "\n",
    "$$\n",
    "\\mathbf{X}^{\\intercal} (\\mathbf{y}-\\mathbf{X\\hat{b}})=0\n",
    "$$\n",
    "\n",
    "$$\n",
    "\\mathbf{\\hat{b}} = \\mathbf{(X^{\\intercal}X)^{-1}X^{\\intercal}y}\n",
    "$$\n",
    "\n",
    "And the projected vector is:\n",
    "\n",
    "$$\n",
    "\\mathrm{Proj}_{X}(y) = X\\hat{b} = \\mathbf{X(X^{\\intercal}X)^{-1}X^{\\intercal}y}\n",
    "$$\n",
    "\n",
    "The project matrix is:\n",
    "\n",
    "$$\n",
    "\\mathrm{Proj}_{X} = \\mathbf{X(X^{\\intercal}X)^{-1}X^{\\intercal}}\n",
    "$$\n",
    "\n",
    "When $X$ is a one dimensional vector, say $a$, then the projection matrix becomes:\n",
    "\n",
    "$$\n",
    "\\mathrm{Proj}_{a} = \\mathbf{\\frac{aa^{\\intercal}}{a^{\\intercal}a}}\n",
    "$$\n",
    "\n"
   ]
  }
 ],
 "metadata": {
  "kernelspec": {
   "display_name": "Python 3",
   "language": "python",
   "name": "python3"
  },
  "language_info": {
   "codemirror_mode": {
    "name": "ipython",
    "version": 3
   },
   "file_extension": ".py",
   "mimetype": "text/x-python",
   "name": "python",
   "nbconvert_exporter": "python",
   "pygments_lexer": "ipython3",
   "version": "3.9.5"
  },
  "widgets": {
   "application/vnd.jupyter.widget-state+json": {
    "state": {},
    "version_major": 2,
    "version_minor": 0
   }
  }
 },
 "nbformat": 4,
 "nbformat_minor": 4
}
